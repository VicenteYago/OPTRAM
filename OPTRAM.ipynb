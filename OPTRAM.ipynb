{
 "cells": [
  {
   "cell_type": "markdown",
   "id": "9417359a",
   "metadata": {},
   "source": [
    "# OPTRAM"
   ]
  },
  {
   "cell_type": "code",
   "execution_count": 1,
   "id": "9a8afb8a",
   "metadata": {},
   "outputs": [
    {
     "name": "stderr",
     "output_type": "stream",
     "text": [
      "ERROR 1: PROJ: proj_create_from_database: Open of /home/vyago/miniconda3/envs/spatial/share/proj failed\n"
     ]
    }
   ],
   "source": [
    "import pandas as pd\n",
    "import utm \n",
    "import folium\n",
    "import re\n",
    "from pathlib import Path\n",
    "import geopandas as gpd\n",
    "from shapely import geometry\n",
    "from osgeo import gdal\n",
    "import rasterio\n",
    "import numpy as np\n",
    "import numpy.ma as ma\n",
    "from rasterio import plot\n",
    "from rasterio.plot import show\n",
    "from rasterio.plot import show_hist\n",
    "import matplotlib.pyplot as plt\n",
    "import datetime\n",
    "import rasterio as rs\n",
    "from scipy import stats\n",
    "import sys\n"
   ]
  },
  {
   "cell_type": "markdown",
   "id": "ba75ad1a",
   "metadata": {},
   "source": [
    "## REGION OF STUDY\n"
   ]
  },
  {
   "cell_type": "code",
   "execution_count": 2,
   "id": "5faaf1d8",
   "metadata": {},
   "outputs": [
    {
     "data": {
      "text/html": [
       "<div>\n",
       "<style scoped>\n",
       "    .dataframe tbody tr th:only-of-type {\n",
       "        vertical-align: middle;\n",
       "    }\n",
       "\n",
       "    .dataframe tbody tr th {\n",
       "        vertical-align: top;\n",
       "    }\n",
       "\n",
       "    .dataframe thead th {\n",
       "        text-align: right;\n",
       "    }\n",
       "</style>\n",
       "<table border=\"1\" class=\"dataframe\">\n",
       "  <thead>\n",
       "    <tr style=\"text-align: right;\">\n",
       "      <th></th>\n",
       "      <th>MAJOR_SUBW</th>\n",
       "      <th>Shape_Leng</th>\n",
       "      <th>Shape_Area</th>\n",
       "      <th>geometry</th>\n",
       "    </tr>\n",
       "  </thead>\n",
       "  <tbody>\n",
       "    <tr>\n",
       "      <th>0</th>\n",
       "      <td>1.0</td>\n",
       "      <td>78272.01636</td>\n",
       "      <td>1.477542e+08</td>\n",
       "      <td>POLYGON ((605817.380 3515703.128, 605817.505 3...</td>\n",
       "    </tr>\n",
       "  </tbody>\n",
       "</table>\n",
       "</div>"
      ],
      "text/plain": [
       "   MAJOR_SUBW   Shape_Leng    Shape_Area  \\\n",
       "0         1.0  78272.01636  1.477542e+08   \n",
       "\n",
       "                                            geometry  \n",
       "0  POLYGON ((605817.380 3515703.128, 605817.505 3...  "
      ]
     },
     "execution_count": 2,
     "metadata": {},
     "output_type": "execute_result"
    }
   ],
   "source": [
    "swrc = gpd.read_file('./WG-boundary/boundary/boundary.shp')\n",
    "swrc"
   ]
  },
  {
   "cell_type": "code",
   "execution_count": 3,
   "id": "99113fc4",
   "metadata": {},
   "outputs": [],
   "source": [
    "def utm_to_latlon(coords, zone_number, zone_letter):\n",
    "    easting = coords[0]\n",
    "    northing = coords[1]\n",
    "    return utm.to_latlon(easting, northing, zone_number, zone_letter)\n",
    "\n",
    "def S2_getDate(filename) :\n",
    "    basename = Path(filename).stem  \n",
    "    try :\n",
    "        found = re.search('S2(A|B)2A_(\\d+)_.*',basename).group(2)\n",
    "    except AttributeError:\n",
    "        print('Error: Pattern not found')\n",
    "        return ;\n",
    "    dt = datetime.datetime.strptime(found, '%Y%m%d')\n",
    "    return dt\n",
    "\n",
    "if False: # Do not run\n",
    "    fname = \"./sen2r/out/BOA/S2A2A_20181213_141_Walnut-Gulch_BOA_10.tif\"\n",
    "    print(S2_getDate(fname))"
   ]
  },
  {
   "cell_type": "code",
   "execution_count": 4,
   "id": "a72c87c6",
   "metadata": {},
   "outputs": [],
   "source": [
    "# Arizona\n",
    "utm_N = 12 \n",
    "utm_Z = 'N'\n",
    "\n",
    "x,y = swrc.geometry[0].exterior.coords.xy\n",
    "points = []\n",
    "for i in range(len(swrc.geometry[0].exterior.coords.xy[1])) : \n",
    "    points.append(utm_to_latlon(coords = [x[i], y[i]], zone_number = utm_N, zone_letter = utm_Z))\n",
    "    \n",
    "# points"
   ]
  },
  {
   "cell_type": "code",
   "execution_count": 5,
   "id": "f910bb63",
   "metadata": {},
   "outputs": [],
   "source": [
    "points_rev = [(y,x) for x,y in points]\n",
    "swrc['geometry'] = geometry.Polygon(points_rev)"
   ]
  },
  {
   "cell_type": "code",
   "execution_count": 6,
   "id": "6f8e079a",
   "metadata": {},
   "outputs": [
    {
     "data": {
      "text/html": [
       "<div style=\"width:100%;\"><div style=\"position:relative;width:100%;height:0;padding-bottom:60%;\"><span style=\"color:#565656\">Make this Notebook Trusted to load map: File -> Trust Notebook</span><iframe src=\"about:blank\" style=\"position:absolute;width:100%;height:100%;left:0;top:0;border:none !important;\" data-html=%3C%21DOCTYPE%20html%3E%0A%3Chead%3E%20%20%20%20%0A%20%20%20%20%3Cmeta%20http-equiv%3D%22content-type%22%20content%3D%22text/html%3B%20charset%3DUTF-8%22%20/%3E%0A%20%20%20%20%0A%20%20%20%20%20%20%20%20%3Cscript%3E%0A%20%20%20%20%20%20%20%20%20%20%20%20L_NO_TOUCH%20%3D%20false%3B%0A%20%20%20%20%20%20%20%20%20%20%20%20L_DISABLE_3D%20%3D%20false%3B%0A%20%20%20%20%20%20%20%20%3C/script%3E%0A%20%20%20%20%0A%20%20%20%20%3Cstyle%3Ehtml%2C%20body%20%7Bwidth%3A%20100%25%3Bheight%3A%20100%25%3Bmargin%3A%200%3Bpadding%3A%200%3B%7D%3C/style%3E%0A%20%20%20%20%3Cstyle%3E%23map%20%7Bposition%3Aabsolute%3Btop%3A0%3Bbottom%3A0%3Bright%3A0%3Bleft%3A0%3B%7D%3C/style%3E%0A%20%20%20%20%3Cscript%20src%3D%22https%3A//cdn.jsdelivr.net/npm/leaflet%401.6.0/dist/leaflet.js%22%3E%3C/script%3E%0A%20%20%20%20%3Cscript%20src%3D%22https%3A//code.jquery.com/jquery-1.12.4.min.js%22%3E%3C/script%3E%0A%20%20%20%20%3Cscript%20src%3D%22https%3A//maxcdn.bootstrapcdn.com/bootstrap/3.2.0/js/bootstrap.min.js%22%3E%3C/script%3E%0A%20%20%20%20%3Cscript%20src%3D%22https%3A//cdnjs.cloudflare.com/ajax/libs/Leaflet.awesome-markers/2.0.2/leaflet.awesome-markers.js%22%3E%3C/script%3E%0A%20%20%20%20%3Clink%20rel%3D%22stylesheet%22%20href%3D%22https%3A//cdn.jsdelivr.net/npm/leaflet%401.6.0/dist/leaflet.css%22/%3E%0A%20%20%20%20%3Clink%20rel%3D%22stylesheet%22%20href%3D%22https%3A//maxcdn.bootstrapcdn.com/bootstrap/3.2.0/css/bootstrap.min.css%22/%3E%0A%20%20%20%20%3Clink%20rel%3D%22stylesheet%22%20href%3D%22https%3A//maxcdn.bootstrapcdn.com/bootstrap/3.2.0/css/bootstrap-theme.min.css%22/%3E%0A%20%20%20%20%3Clink%20rel%3D%22stylesheet%22%20href%3D%22https%3A//maxcdn.bootstrapcdn.com/font-awesome/4.6.3/css/font-awesome.min.css%22/%3E%0A%20%20%20%20%3Clink%20rel%3D%22stylesheet%22%20href%3D%22https%3A//cdnjs.cloudflare.com/ajax/libs/Leaflet.awesome-markers/2.0.2/leaflet.awesome-markers.css%22/%3E%0A%20%20%20%20%3Clink%20rel%3D%22stylesheet%22%20href%3D%22https%3A//cdn.jsdelivr.net/gh/python-visualization/folium/folium/templates/leaflet.awesome.rotate.min.css%22/%3E%0A%20%20%20%20%0A%20%20%20%20%20%20%20%20%20%20%20%20%3Cmeta%20name%3D%22viewport%22%20content%3D%22width%3Ddevice-width%2C%0A%20%20%20%20%20%20%20%20%20%20%20%20%20%20%20%20initial-scale%3D1.0%2C%20maximum-scale%3D1.0%2C%20user-scalable%3Dno%22%20/%3E%0A%20%20%20%20%20%20%20%20%20%20%20%20%3Cstyle%3E%0A%20%20%20%20%20%20%20%20%20%20%20%20%20%20%20%20%23map_b8b761c9357a4c299d8c834a368327bf%20%7B%0A%20%20%20%20%20%20%20%20%20%20%20%20%20%20%20%20%20%20%20%20position%3A%20relative%3B%0A%20%20%20%20%20%20%20%20%20%20%20%20%20%20%20%20%20%20%20%20width%3A%20100.0%25%3B%0A%20%20%20%20%20%20%20%20%20%20%20%20%20%20%20%20%20%20%20%20height%3A%20100.0%25%3B%0A%20%20%20%20%20%20%20%20%20%20%20%20%20%20%20%20%20%20%20%20left%3A%200.0%25%3B%0A%20%20%20%20%20%20%20%20%20%20%20%20%20%20%20%20%20%20%20%20top%3A%200.0%25%3B%0A%20%20%20%20%20%20%20%20%20%20%20%20%20%20%20%20%7D%0A%20%20%20%20%20%20%20%20%20%20%20%20%3C/style%3E%0A%20%20%20%20%20%20%20%20%0A%3C/head%3E%0A%3Cbody%3E%20%20%20%20%0A%20%20%20%20%0A%20%20%20%20%20%20%20%20%20%20%20%20%3Cdiv%20class%3D%22folium-map%22%20id%3D%22map_b8b761c9357a4c299d8c834a368327bf%22%20%3E%3C/div%3E%0A%20%20%20%20%20%20%20%20%0A%3C/body%3E%0A%3Cscript%3E%20%20%20%20%0A%20%20%20%20%0A%20%20%20%20%20%20%20%20%20%20%20%20var%20map_b8b761c9357a4c299d8c834a368327bf%20%3D%20L.map%28%0A%20%20%20%20%20%20%20%20%20%20%20%20%20%20%20%20%22map_b8b761c9357a4c299d8c834a368327bf%22%2C%0A%20%20%20%20%20%20%20%20%20%20%20%20%20%20%20%20%7B%0A%20%20%20%20%20%20%20%20%20%20%20%20%20%20%20%20%20%20%20%20center%3A%20%5B31.77196086872937%2C%20-109.8824988259172%5D%2C%0A%20%20%20%20%20%20%20%20%20%20%20%20%20%20%20%20%20%20%20%20crs%3A%20L.CRS.EPSG3857%2C%0A%20%20%20%20%20%20%20%20%20%20%20%20%20%20%20%20%20%20%20%20zoom%3A%2010%2C%0A%20%20%20%20%20%20%20%20%20%20%20%20%20%20%20%20%20%20%20%20zoomControl%3A%20true%2C%0A%20%20%20%20%20%20%20%20%20%20%20%20%20%20%20%20%20%20%20%20preferCanvas%3A%20false%2C%0A%20%20%20%20%20%20%20%20%20%20%20%20%20%20%20%20%7D%0A%20%20%20%20%20%20%20%20%20%20%20%20%29%3B%0A%0A%20%20%20%20%20%20%20%20%20%20%20%20%0A%0A%20%20%20%20%20%20%20%20%0A%20%20%20%20%0A%20%20%20%20%20%20%20%20%20%20%20%20var%20tile_layer_25a1f240df694a06ba37ed2f558360ab%20%3D%20L.tileLayer%28%0A%20%20%20%20%20%20%20%20%20%20%20%20%20%20%20%20%22https%3A//%7Bs%7D.tile.openstreetmap.org/%7Bz%7D/%7Bx%7D/%7By%7D.png%22%2C%0A%20%20%20%20%20%20%20%20%20%20%20%20%20%20%20%20%7B%22attribution%22%3A%20%22Data%20by%20%5Cu0026copy%3B%20%5Cu003ca%20href%3D%5C%22http%3A//openstreetmap.org%5C%22%5Cu003eOpenStreetMap%5Cu003c/a%5Cu003e%2C%20under%20%5Cu003ca%20href%3D%5C%22http%3A//www.openstreetmap.org/copyright%5C%22%5Cu003eODbL%5Cu003c/a%5Cu003e.%22%2C%20%22detectRetina%22%3A%20false%2C%20%22maxNativeZoom%22%3A%2018%2C%20%22maxZoom%22%3A%2018%2C%20%22minZoom%22%3A%200%2C%20%22noWrap%22%3A%20false%2C%20%22opacity%22%3A%201%2C%20%22subdomains%22%3A%20%22abc%22%2C%20%22tms%22%3A%20false%7D%0A%20%20%20%20%20%20%20%20%20%20%20%20%29.addTo%28map_b8b761c9357a4c299d8c834a368327bf%29%3B%0A%20%20%20%20%20%20%20%20%0A%20%20%20%20%0A%20%20%20%20%20%20%20%20function%20geo_json_f20de46bffc0487eb8c31e9a6b3fae5e_styler%28feature%29%20%7B%0A%20%20%20%20%20%20%20%20%20%20%20%20switch%28feature.id%29%20%7B%0A%20%20%20%20%20%20%20%20%20%20%20%20%20%20%20%20default%3A%0A%20%20%20%20%20%20%20%20%20%20%20%20%20%20%20%20%20%20%20%20return%20%7B%22fillColor%22%3A%20%22orange%22%7D%3B%0A%20%20%20%20%20%20%20%20%20%20%20%20%7D%0A%20%20%20%20%20%20%20%20%7D%0A%0A%20%20%20%20%20%20%20%20function%20geo_json_f20de46bffc0487eb8c31e9a6b3fae5e_onEachFeature%28feature%2C%20layer%29%20%7B%0A%20%20%20%20%20%20%20%20%20%20%20%20layer.on%28%7B%0A%20%20%20%20%20%20%20%20%20%20%20%20%7D%29%3B%0A%20%20%20%20%20%20%20%20%7D%3B%0A%20%20%20%20%20%20%20%20var%20geo_json_f20de46bffc0487eb8c31e9a6b3fae5e%20%3D%20L.geoJson%28null%2C%20%7B%0A%20%20%20%20%20%20%20%20%20%20%20%20%20%20%20%20onEachFeature%3A%20geo_json_f20de46bffc0487eb8c31e9a6b3fae5e_onEachFeature%2C%0A%20%20%20%20%20%20%20%20%20%20%20%20%0A%20%20%20%20%20%20%20%20%20%20%20%20%20%20%20%20style%3A%20geo_json_f20de46bffc0487eb8c31e9a6b3fae5e_styler%2C%0A%20%20%20%20%20%20%20%20%7D%29%3B%0A%0A%20%20%20%20%20%20%20%20function%20geo_json_f20de46bffc0487eb8c31e9a6b3fae5e_add%20%28data%29%20%7B%0A%20%20%20%20%20%20%20%20%20%20%20%20geo_json_f20de46bffc0487eb8c31e9a6b3fae5e%0A%20%20%20%20%20%20%20%20%20%20%20%20%20%20%20%20.addData%28data%29%0A%20%20%20%20%20%20%20%20%20%20%20%20%20%20%20%20.addTo%28map_b8b761c9357a4c299d8c834a368327bf%29%3B%0A%20%20%20%20%20%20%20%20%7D%0A%20%20%20%20%20%20%20%20%20%20%20%20geo_json_f20de46bffc0487eb8c31e9a6b3fae5e_add%28%7B%22bbox%22%3A%20%5B-110.15356523662584%2C%2031.663950098486403%2C%20-109.8780510989751%2C%2031.77196086872937%5D%2C%20%22features%22%3A%20%5B%7B%22bbox%22%3A%20%5B-110.15356523662584%2C%2031.663950098486403%2C%20-109.8780510989751%2C%2031.77196086872937%5D%2C%20%22geometry%22%3A%20%7B%22coordinates%22%3A%20%5B%5B%5B-109.88249882591717%2C%2031.77196086872937%5D%2C%20%5B-109.8808631099572%2C%2031.767653436011067%5D%2C%20%5B-109.8780510989751%2C%2031.766841073775215%5D%2C%20%5B-109.88092056596426%2C%2031.762573773811116%5D%2C%20%5B-109.88554292429562%2C%2031.767085600697925%5D%2C%20%5B-109.89147434362745%2C%2031.768617813797807%5D%2C%20%5B-109.89645879963672%2C%2031.767722133584005%5D%2C%20%5B-109.89984789987021%2C%2031.764734794630584%5D%2C%20%5B-109.89819850536962%2C%2031.76216973605926%5D%2C%20%5B-109.89954394155198%2C%2031.760827360954334%5D%2C%20%5B-109.89867515222575%2C%2031.75893944244674%5D%2C%20%5B-109.90137053674835%2C%2031.75513659981323%5D%2C%20%5B-109.91668547262475%2C%2031.74730274268177%5D%2C%20%5B-109.91636181941355%2C%2031.743770026241872%5D%2C%20%5B-109.91933282036912%2C%2031.741261880159765%5D%2C%20%5B-109.91848587473531%2C%2031.739388150210818%5D%2C%20%5B-109.920744644375%2C%2031.736800081468136%5D%2C%20%5B-109.92028942630652%2C%2031.735235032476204%5D%2C%20%5B-109.92264269871923%2C%2031.731444266501267%5D%2C%20%5B-109.93074957868035%2C%2031.725409023871112%5D%2C%20%5B-109.93121073549867%2C%2031.718917393437334%5D%2C%20%5B-109.93697811443562%2C%2031.711161968687783%5D%2C%20%5B-109.94066629240034%2C%2031.714547906665185%5D%2C%20%5B-109.9439029429051%2C%2031.715014069591234%5D%2C%20%5B-109.9524574042974%2C%2031.711342059452804%5D%2C%20%5B-109.95572644424891%2C%2031.711840504728467%5D%2C%20%5B-109.96105509334846%2C%2031.708825311135634%5D%2C%20%5B-109.96319246520058%2C%2031.705297223439427%5D%2C%20%5B-109.97444538007716%2C%2031.70399365165723%5D%2C%20%5B-109.97680038681543%2C%2031.700409143899773%5D%2C%20%5B-109.98003668237283%2C%2031.70262731115172%5D%2C%20%5B-109.98266610535408%2C%2031.701971689387157%5D%2C%20%5B-109.98626033634002%2C%2031.69488513187538%5D%2C%20%5B-109.98358204408642%2C%2031.689076724573503%5D%2C%20%5B-109.98687980419066%2C%2031.685477020191858%5D%2C%20%5B-109.98626643356882%2C%2031.682847445970335%5D%2C%20%5B-109.99253135312401%2C%2031.681615993102863%5D%2C%20%5B-109.99508812627516%2C%2031.674121118398304%5D%2C%20%5B-109.99944646718508%2C%2031.67071755862189%5D%2C%20%5B-110.00719477683636%2C%2031.669614863583046%5D%2C%20%5B-110.0103285844753%2C%2031.66574185381834%5D%2C%20%5B-110.01211588428951%2C%2031.668038197194534%5D%2C%20%5B-110.02537162643644%2C%2031.669006270735217%5D%2C%20%5B-110.03595470714312%2C%2031.663950098486403%5D%2C%20%5B-110.03745750915535%2C%2031.666382562774874%5D%2C%20%5B-110.03524290944519%2C%2031.670227085382717%5D%2C%20%5B-110.03603035202953%2C%2031.672497489202637%5D%2C%20%5B-110.04165658469643%2C%2031.674785774597623%5D%2C%20%5B-110.04059275444509%2C%2031.677258433016437%5D%2C%20%5B-110.04248166173278%2C%2031.68295714642713%5D%2C%20%5B-110.04536295810162%2C%2031.684258327328777%5D%2C%20%5B-110.05226797385343%2C%2031.68446471837779%5D%2C%20%5B-110.05480664705361%2C%2031.67675719891326%5D%2C%20%5B-110.05807238911358%2C%2031.676658831622063%5D%2C%20%5B-110.06245143855725%2C%2031.671638930303253%5D%2C%20%5B-110.07257699734535%2C%2031.66807720208925%5D%2C%20%5B-110.07353838375988%2C%2031.675355725045588%5D%2C%20%5B-110.08090200110786%2C%2031.67558441462761%5D%2C%20%5B-110.07764144858336%2C%2031.682214103580655%5D%2C%20%5B-110.08094481525211%2C%2031.686378923934168%5D%2C%20%5B-110.07723070896758%2C%2031.68872566073162%5D%2C%20%5B-110.07690324606428%2C%2031.691596413869373%5D%2C%20%5B-110.08387345501355%2C%2031.69436704807718%5D%2C%20%5B-110.09035653648824%2C%2031.693482617602953%5D%2C%20%5B-110.09293226047554%2C%2031.696334518652755%5D%2C%20%5B-110.10922077533839%2C%2031.69559226383643%5D%2C%20%5B-110.11037606905415%2C%2031.69780488098471%5D%2C%20%5B-110.10475753940554%2C%2031.699972645356127%5D%2C%20%5B-110.10580772393457%2C%2031.706071502288772%5D%2C%20%5B-110.1177417696896%2C%2031.710971436581215%5D%2C%20%5B-110.12741795584037%2C%2031.70725931756247%5D%2C%20%5B-110.13080570605817%2C%2031.71404636121821%5D%2C%20%5B-110.13517275043066%2C%2031.718407325429233%5D%2C%20%5B-110.14246343077795%2C%2031.72300940445625%5D%2C%20%5B-110.14973673844844%2C%2031.723323225601273%5D%2C%20%5B-110.15356523662584%2C%2031.729844713904612%5D%2C%20%5B-110.14827651069601%2C%2031.734483158140005%5D%2C%20%5B-110.14750073622464%2C%2031.737101038579326%5D%2C%20%5B-110.13457439971077%2C%2031.7454425097202%5D%2C%20%5B-110.12946788404105%2C%2031.745767738472225%5D%2C%20%5B-110.12369691163558%2C%2031.743959904523578%5D%2C%20%5B-110.12052148606489%2C%2031.746788875265626%5D%2C%20%5B-110.10919149817362%2C%2031.748242803208683%5D%2C%20%5B-110.08280637713882%2C%2031.74896376377388%5D%2C%20%5B-110.0724461217019%2C%2031.751896883178404%5D%2C%20%5B-110.0549623589049%2C%2031.753586895274648%5D%2C%20%5B-110.0391521142242%2C%2031.752650895156382%5D%2C%20%5B-110.02931573957707%2C%2031.75622155513099%5D%2C%20%5B-110.01376810523945%2C%2031.75701326448948%5D%2C%20%5B-110.00542868837982%2C%2031.76032213832295%5D%2C%20%5B-109.98764433530376%2C%2031.762825724021738%5D%2C%20%5B-109.9769927586387%2C%2031.763110719136744%5D%2C%20%5B-109.97599953577046%2C%2031.76163206382832%5D%2C%20%5B-109.96611381493244%2C%2031.760510516573177%5D%2C%20%5B-109.95643945180268%2C%2031.756746127047496%5D%2C%20%5B-109.94117011679353%2C%2031.759714565130228%5D%2C%20%5B-109.93613896247506%2C%2031.758805713389773%5D%2C%20%5B-109.93085409276256%2C%2031.761125088197268%5D%2C%20%5B-109.92103665553819%2C%2031.760013867702877%5D%2C%20%5B-109.91798184173194%2C%2031.76377347578657%5D%2C%20%5B-109.90019081115493%2C%2031.771690799964755%5D%2C%20%5B-109.89808127511218%2C%2031.77070619445939%5D%2C%20%5B-109.88249882591717%2C%2031.77196086872937%5D%5D%5D%2C%20%22type%22%3A%20%22Polygon%22%7D%2C%20%22id%22%3A%20%220%22%2C%20%22properties%22%3A%20%7B%7D%2C%20%22type%22%3A%20%22Feature%22%7D%5D%2C%20%22type%22%3A%20%22FeatureCollection%22%7D%29%3B%0A%0A%20%20%20%20%20%20%20%20%0A%3C/script%3E onload=\"this.contentDocument.open();this.contentDocument.write(    decodeURIComponent(this.getAttribute('data-html')));this.contentDocument.close();\" allowfullscreen webkitallowfullscreen mozallowfullscreen></iframe></div></div>"
      ],
      "text/plain": [
       "<folium.folium.Map at 0x7f62d18ce400>"
      ]
     },
     "execution_count": 6,
     "metadata": {},
     "output_type": "execute_result"
    }
   ],
   "source": [
    "m = folium.Map(location=[31.77196086872937, -109.8824988259172], zoom_start=10)\n",
    "for _, r in swrc.iterrows():\n",
    "    sim_geo = gpd.GeoSeries(r['geometry']).simplify(tolerance=0.001)\n",
    "    geo_j = sim_geo.to_json()\n",
    "    geo_j = folium.GeoJson(data=geo_j,\n",
    "                           style_function=lambda x: {'fillColor': 'orange'})\n",
    "    geo_j.add_to(m)\n",
    "m"
   ]
  },
  {
   "cell_type": "markdown",
   "id": "0643f034",
   "metadata": {},
   "source": [
    " Shapefile to geojson conversion"
   ]
  },
  {
   "cell_type": "code",
   "execution_count": 7,
   "id": "54a49541",
   "metadata": {},
   "outputs": [
    {
     "name": "stderr",
     "output_type": "stream",
     "text": [
      "/home/vyago/miniconda3/envs/spatial/lib/python3.8/site-packages/geopandas/io/file.py:362: FutureWarning: pandas.Int64Index is deprecated and will be removed from pandas in a future version. Use pandas.Index with the appropriate dtype instead.\n",
      "  pd.Int64Index,\n"
     ]
    }
   ],
   "source": [
    "swrc.to_crs(epsg=4326)\n",
    "swrc.to_file('./sen2r/Walnut-Gulch.geojson', driver='GeoJSON')"
   ]
  },
  {
   "cell_type": "markdown",
   "id": "3e128fac",
   "metadata": {},
   "source": [
    "## LOAD DATA"
   ]
  },
  {
   "cell_type": "markdown",
   "id": "14deb707",
   "metadata": {},
   "source": [
    "### Sensor "
   ]
  },
  {
   "cell_type": "code",
   "execution_count": 8,
   "id": "6cbab354",
   "metadata": {},
   "outputs": [],
   "source": [
    "names = [\"site\", \"year\", \"day\", \"hr\", \"mn\", \"SM5\", \"SM15\", \"SM30\", \"SM50\", \"SM75\", \"SM100\", \"SM200\"]\n",
    "l1tdr17 = pd.read_csv('https://www.tucson.ars.ag.gov/metDAP/SoilProfileSiteData/l1tdr17.out',\n",
    "                  sep='\\s+', \n",
    "                  names = names)"
   ]
  },
  {
   "cell_type": "code",
   "execution_count": 97,
   "id": "9001fba5",
   "metadata": {},
   "outputs": [],
   "source": [
    "l1tdr17[\"datetime\"] = (\n",
    "                        pd.to_datetime(l1tdr17['year'] * 1000 + l1tdr17['day'], format='%Y%j') \n",
    "                        +\n",
    "                        pd.to_timedelta(l1tdr17[\"hr\"], unit=\"h\") \n",
    "                        +\n",
    "                        pd.to_timedelta(l1tdr17[\"mn\"], unit=\"min\") \n",
    "                      )"
   ]
  },
  {
   "cell_type": "code",
   "execution_count": 98,
   "id": "a79ddfcc",
   "metadata": {},
   "outputs": [
    {
     "data": {
      "text/html": [
       "<div>\n",
       "<style scoped>\n",
       "    .dataframe tbody tr th:only-of-type {\n",
       "        vertical-align: middle;\n",
       "    }\n",
       "\n",
       "    .dataframe tbody tr th {\n",
       "        vertical-align: top;\n",
       "    }\n",
       "\n",
       "    .dataframe thead th {\n",
       "        text-align: right;\n",
       "    }\n",
       "</style>\n",
       "<table border=\"1\" class=\"dataframe\">\n",
       "  <thead>\n",
       "    <tr style=\"text-align: right;\">\n",
       "      <th></th>\n",
       "      <th>site</th>\n",
       "      <th>year</th>\n",
       "      <th>day</th>\n",
       "      <th>hr</th>\n",
       "      <th>mn</th>\n",
       "      <th>SM5</th>\n",
       "      <th>SM15</th>\n",
       "      <th>SM30</th>\n",
       "      <th>SM50</th>\n",
       "      <th>SM75</th>\n",
       "      <th>SM100</th>\n",
       "      <th>SM200</th>\n",
       "    </tr>\n",
       "    <tr>\n",
       "      <th>datetime</th>\n",
       "      <th></th>\n",
       "      <th></th>\n",
       "      <th></th>\n",
       "      <th></th>\n",
       "      <th></th>\n",
       "      <th></th>\n",
       "      <th></th>\n",
       "      <th></th>\n",
       "      <th></th>\n",
       "      <th></th>\n",
       "      <th></th>\n",
       "      <th></th>\n",
       "    </tr>\n",
       "  </thead>\n",
       "  <tbody>\n",
       "    <tr>\n",
       "      <th>2017-01-01 00:30:00</th>\n",
       "      <td>3008</td>\n",
       "      <td>2017</td>\n",
       "      <td>1</td>\n",
       "      <td>0</td>\n",
       "      <td>30</td>\n",
       "      <td>11</td>\n",
       "      <td>8</td>\n",
       "      <td>6</td>\n",
       "      <td>6</td>\n",
       "      <td>15</td>\n",
       "      <td>12</td>\n",
       "      <td>14</td>\n",
       "    </tr>\n",
       "    <tr>\n",
       "      <th>2017-01-01 01:00:00</th>\n",
       "      <td>3008</td>\n",
       "      <td>2017</td>\n",
       "      <td>1</td>\n",
       "      <td>1</td>\n",
       "      <td>0</td>\n",
       "      <td>11</td>\n",
       "      <td>9</td>\n",
       "      <td>6</td>\n",
       "      <td>6</td>\n",
       "      <td>14</td>\n",
       "      <td>12</td>\n",
       "      <td>14</td>\n",
       "    </tr>\n",
       "    <tr>\n",
       "      <th>2017-01-01 01:30:00</th>\n",
       "      <td>3008</td>\n",
       "      <td>2017</td>\n",
       "      <td>1</td>\n",
       "      <td>1</td>\n",
       "      <td>30</td>\n",
       "      <td>11</td>\n",
       "      <td>8</td>\n",
       "      <td>6</td>\n",
       "      <td>6999</td>\n",
       "      <td>15</td>\n",
       "      <td>13</td>\n",
       "      <td>14</td>\n",
       "    </tr>\n",
       "    <tr>\n",
       "      <th>2017-01-01 02:00:00</th>\n",
       "      <td>3008</td>\n",
       "      <td>2017</td>\n",
       "      <td>1</td>\n",
       "      <td>2</td>\n",
       "      <td>0</td>\n",
       "      <td>11</td>\n",
       "      <td>8</td>\n",
       "      <td>6</td>\n",
       "      <td>6</td>\n",
       "      <td>15</td>\n",
       "      <td>12</td>\n",
       "      <td>14</td>\n",
       "    </tr>\n",
       "    <tr>\n",
       "      <th>2017-01-01 02:30:00</th>\n",
       "      <td>3008</td>\n",
       "      <td>2017</td>\n",
       "      <td>1</td>\n",
       "      <td>2</td>\n",
       "      <td>30</td>\n",
       "      <td>12</td>\n",
       "      <td>7</td>\n",
       "      <td>6</td>\n",
       "      <td>6</td>\n",
       "      <td>14</td>\n",
       "      <td>12</td>\n",
       "      <td>13</td>\n",
       "    </tr>\n",
       "    <tr>\n",
       "      <th>...</th>\n",
       "      <td>...</td>\n",
       "      <td>...</td>\n",
       "      <td>...</td>\n",
       "      <td>...</td>\n",
       "      <td>...</td>\n",
       "      <td>...</td>\n",
       "      <td>...</td>\n",
       "      <td>...</td>\n",
       "      <td>...</td>\n",
       "      <td>...</td>\n",
       "      <td>...</td>\n",
       "      <td>...</td>\n",
       "    </tr>\n",
       "    <tr>\n",
       "      <th>2017-12-31 22:00:00</th>\n",
       "      <td>3008</td>\n",
       "      <td>2017</td>\n",
       "      <td>365</td>\n",
       "      <td>22</td>\n",
       "      <td>0</td>\n",
       "      <td>5</td>\n",
       "      <td>6</td>\n",
       "      <td>6</td>\n",
       "      <td>5</td>\n",
       "      <td>11</td>\n",
       "      <td>12</td>\n",
       "      <td>14</td>\n",
       "    </tr>\n",
       "    <tr>\n",
       "      <th>2017-12-31 22:30:00</th>\n",
       "      <td>3008</td>\n",
       "      <td>2017</td>\n",
       "      <td>365</td>\n",
       "      <td>22</td>\n",
       "      <td>30</td>\n",
       "      <td>5</td>\n",
       "      <td>6</td>\n",
       "      <td>7</td>\n",
       "      <td>6</td>\n",
       "      <td>11</td>\n",
       "      <td>12</td>\n",
       "      <td>14</td>\n",
       "    </tr>\n",
       "    <tr>\n",
       "      <th>2017-12-31 23:00:00</th>\n",
       "      <td>3008</td>\n",
       "      <td>2017</td>\n",
       "      <td>365</td>\n",
       "      <td>23</td>\n",
       "      <td>0</td>\n",
       "      <td>5</td>\n",
       "      <td>6</td>\n",
       "      <td>5</td>\n",
       "      <td>6</td>\n",
       "      <td>12</td>\n",
       "      <td>12</td>\n",
       "      <td>14</td>\n",
       "    </tr>\n",
       "    <tr>\n",
       "      <th>2017-12-31 23:30:00</th>\n",
       "      <td>3008</td>\n",
       "      <td>2017</td>\n",
       "      <td>365</td>\n",
       "      <td>23</td>\n",
       "      <td>30</td>\n",
       "      <td>5</td>\n",
       "      <td>6</td>\n",
       "      <td>7</td>\n",
       "      <td>6</td>\n",
       "      <td>12</td>\n",
       "      <td>12</td>\n",
       "      <td>14</td>\n",
       "    </tr>\n",
       "    <tr>\n",
       "      <th>2018-01-01 00:00:00</th>\n",
       "      <td>3008</td>\n",
       "      <td>2017</td>\n",
       "      <td>365</td>\n",
       "      <td>24</td>\n",
       "      <td>0</td>\n",
       "      <td>6</td>\n",
       "      <td>6</td>\n",
       "      <td>7</td>\n",
       "      <td>6999</td>\n",
       "      <td>12</td>\n",
       "      <td>12</td>\n",
       "      <td>14</td>\n",
       "    </tr>\n",
       "  </tbody>\n",
       "</table>\n",
       "<p>17520 rows × 12 columns</p>\n",
       "</div>"
      ],
      "text/plain": [
       "                     site  year  day  hr  mn  SM5  SM15  SM30  SM50  SM75  \\\n",
       "datetime                                                                    \n",
       "2017-01-01 00:30:00  3008  2017    1   0  30   11     8     6     6    15   \n",
       "2017-01-01 01:00:00  3008  2017    1   1   0   11     9     6     6    14   \n",
       "2017-01-01 01:30:00  3008  2017    1   1  30   11     8     6  6999    15   \n",
       "2017-01-01 02:00:00  3008  2017    1   2   0   11     8     6     6    15   \n",
       "2017-01-01 02:30:00  3008  2017    1   2  30   12     7     6     6    14   \n",
       "...                   ...   ...  ...  ..  ..  ...   ...   ...   ...   ...   \n",
       "2017-12-31 22:00:00  3008  2017  365  22   0    5     6     6     5    11   \n",
       "2017-12-31 22:30:00  3008  2017  365  22  30    5     6     7     6    11   \n",
       "2017-12-31 23:00:00  3008  2017  365  23   0    5     6     5     6    12   \n",
       "2017-12-31 23:30:00  3008  2017  365  23  30    5     6     7     6    12   \n",
       "2018-01-01 00:00:00  3008  2017  365  24   0    6     6     7  6999    12   \n",
       "\n",
       "                     SM100  SM200  \n",
       "datetime                           \n",
       "2017-01-01 00:30:00     12     14  \n",
       "2017-01-01 01:00:00     12     14  \n",
       "2017-01-01 01:30:00     13     14  \n",
       "2017-01-01 02:00:00     12     14  \n",
       "2017-01-01 02:30:00     12     13  \n",
       "...                    ...    ...  \n",
       "2017-12-31 22:00:00     12     14  \n",
       "2017-12-31 22:30:00     12     14  \n",
       "2017-12-31 23:00:00     12     14  \n",
       "2017-12-31 23:30:00     12     14  \n",
       "2018-01-01 00:00:00     12     14  \n",
       "\n",
       "[17520 rows x 12 columns]"
      ]
     },
     "execution_count": 98,
     "metadata": {},
     "output_type": "execute_result"
    }
   ],
   "source": [
    "l1tdr17.set_index('datetime', inplace = True)\n",
    "l1tdr17"
   ]
  },
  {
   "cell_type": "markdown",
   "id": "4aad6533",
   "metadata": {},
   "source": [
    "Its obvious **6999** represent a _no_data_ value."
   ]
  },
  {
   "cell_type": "code",
   "execution_count": 81,
   "id": "a1f686d0",
   "metadata": {},
   "outputs": [],
   "source": [
    "l1tdr17_fix = l1tdr17.replace(6999, None)"
   ]
  },
  {
   "cell_type": "code",
   "execution_count": 96,
   "id": "df85b7e5",
   "metadata": {
    "scrolled": true
   },
   "outputs": [
    {
     "data": {
      "text/plain": [
       "[<matplotlib.lines.Line2D at 0x7f626d6d7eb0>]"
      ]
     },
     "execution_count": 96,
     "metadata": {},
     "output_type": "execute_result"
    },
    {
     "data": {
      "image/png": "[encoded data removed]",
      "text/plain": [
       "<Figure size 720x216 with 2 Axes>"
      ]
     },
     "metadata": {
      "needs_background": "light"
     },
     "output_type": "display_data"
    }
   ],
   "source": [
    "fig, (ax1, ax2) = plt.subplots(2, figsize = (10,3), sharex= True)\n",
    "fig.suptitle('l1tdr17 - SM 5 cm')\n",
    "ax1.plot(l1tdr17.loc[:,'SM5'].index, l1tdr17.loc[:,'SM5'])\n",
    "ax2.plot(l1tdr17_fix.loc[:,'SM5'].index, l1tdr17_fix.loc[:,'SM5'])"
   ]
  },
  {
   "cell_type": "markdown",
   "id": "9a43b41c",
   "metadata": {},
   "source": [
    "### Satellite"
   ]
  },
  {
   "cell_type": "markdown",
   "id": "22523415",
   "metadata": {},
   "source": [
    "Example for df creation of 1 image: "
   ]
  },
  {
   "cell_type": "code",
   "execution_count": 15,
   "id": "e042c7e0",
   "metadata": {},
   "outputs": [],
   "source": [
    "boa_fp = r\"./sen2r/out/BOA/S2A2A_20181213_141_Walnut-Gulch_BOA_10.tif\"\n",
    "boa = rs.open(boa_fp) \n",
    "\n",
    "r    = boa.read(3, masked = True)\n",
    "nir  = boa.read(8, masked = True)\n",
    "swir = boa.read(11,masked = True)\n",
    "swir = swir / 10000 #  #SWIR2 band 12 http://sen2r.ranghetti.info/articles/outstructure.html\n",
    "ndvi = (nir - r)/(nir + r)\n",
    "STR  = ((1-swir)**2)/(2*swir)"
   ]
  },
  {
   "cell_type": "markdown",
   "id": "b188d252",
   "metadata": {},
   "source": [
    "The following cell runs a bash command to obtain the sensing acquisition datetime of the satellite images. The invoked script is a R code which uses the sen2r library."
   ]
  },
  {
   "cell_type": "code",
   "execution_count": 16,
   "id": "3a48b104",
   "metadata": {},
   "outputs": [
    {
     "name": "stdout",
     "output_type": "stream",
     "text": [
      "# Rscript sat_sensing_dt.R \"2021-01-01\" \"2021-01-10\" Walnut-Gulch.geojson 2> /dev/null\n",
      "\n",
      "args <- commandArgs(trailingOnly = TRUE)\n",
      "start_dt = args[1] # yyyy-mm-dd\n",
      "end_dt   = args[2] # yyyy-mm-dd\n",
      "geojson  = args[3]\n",
      "\n",
      "time_window <- as.Date(c(start_dt, end_dt))\n",
      "gj.sf = geojsonsf::geojson_sfc(geojson)\n",
      "results = sen2r::s2_list(gj.sf, time_interval = time_window)\n",
      "\n",
      "sensing_dt <- sen2r::safe_getMetadata(results, \"sensing_datetime\")\n",
      "sensing_dt\n"
     ]
    }
   ],
   "source": [
    "%%bash\n",
    "\n",
    "cat ./sen2r/sat_sensing_dt.R"
   ]
  },
  {
   "cell_type": "code",
   "execution_count": 17,
   "id": "ac0f0be7",
   "metadata": {},
   "outputs": [
    {
     "name": "stdout",
     "output_type": "stream",
     "text": [
      "Requesting image metadata between 2018-12-12 - 2018-12-14\n"
     ]
    },
    {
     "data": {
      "text/plain": [
       "['S2A_MSIL2A_20181213T175731_N0211_R141_T12SWA_20181213T202707.SAFE ',\n",
       " '                                        \"2018-12-13 17:57:31 UTC\" ']"
      ]
     },
     "execution_count": 17,
     "metadata": {},
     "output_type": "execute_result"
    }
   ],
   "source": [
    "days_offset = 1\n",
    "start_dt = S2_getDate(boa_fp) - datetime.timedelta(days=days_offset)\n",
    "end_dt   = S2_getDate(boa_fp) + datetime.timedelta(days=days_offset)\n",
    "\n",
    "start_dt = start_dt.strftime('%Y-%m-%d')\n",
    "end_dt   = end_dt.strftime('%Y-%m-%d')\n",
    "\n",
    "print('Requesting image metadata between %s - %s' % (start_dt, end_dt))\n",
    "\n",
    "# bash callback: \n",
    "dts = ! Rscript ./sen2r/sat_sensing_dt.R $start_dt $end_dt ./sen2r/Walnut-Gulch.geojson 2> /dev/null\n",
    "dts"
   ]
  },
  {
   "cell_type": "code",
   "execution_count": 18,
   "id": "1c0ce229",
   "metadata": {},
   "outputs": [],
   "source": [
    "sensing_datetime = datetime.datetime.strptime(dts[1], '                                        \"%Y-%m-%d %H:%M:%S UTC\" ')"
   ]
  },
  {
   "cell_type": "code",
   "execution_count": 25,
   "id": "50947db8",
   "metadata": {},
   "outputs": [
    {
     "name": "stdout",
     "output_type": "stream",
     "text": [
      "(1214, 2607) (3164898,)\n"
     ]
    }
   ],
   "source": [
    "print(ndvi.data.shape, np.ndarray.flatten(ndvi.data).shape)"
   ]
  },
  {
   "cell_type": "code",
   "execution_count": 26,
   "id": "c1e6cc97",
   "metadata": {},
   "outputs": [
    {
     "data": {
      "text/plain": [
       "{'datetime': datetime.datetime(2018, 12, 13, 17, 57, 31),\n",
       " 'ndvi': array([65535., 65535., 65535., ..., 65535., 65535., 65535.]),\n",
       " 'str': array([1., 1., 1., ..., 1., 1., 1.]),\n",
       " 'defective_px': 0,\n",
       " 'fpath': './sen2r/out/BOA/S2A2A_20181213_141_Walnut-Gulch_BOA_10.tif',\n",
       " 'coord_X': 0,\n",
       " 'coord_Y': 0}"
      ]
     },
     "execution_count": 26,
     "metadata": {},
     "output_type": "execute_result"
    }
   ],
   "source": [
    "data = {\n",
    "    'datetime' : sensing_datetime,\n",
    "    'ndvi' : np.ndarray.flatten(ndvi.data),\n",
    "    'str'  : np.ndarray.flatten(STR.data),\n",
    "    'defective_px' : 0, # TODO\n",
    "    'fpath' : boa_fp,\n",
    "    'coord_X' :  0, # TODO\n",
    "    'coord_Y' : 0 # TODO\n",
    "}\n",
    "\n",
    "tif_df = pd.DataFrame(data)\n",
    "tif_df"
   ]
  },
  {
   "cell_type": "code",
   "execution_count": 76,
   "id": "23c81ed9",
   "metadata": {},
   "outputs": [],
   "source": [
    "tif_df.drop(tif_df[tif_df.loc[:,\"ndvi\"] > 1].index, inplace=True)"
   ]
  },
  {
   "cell_type": "code",
   "execution_count": 100,
   "id": "bf087dbd",
   "metadata": {},
   "outputs": [
    {
     "data": {
      "text/plain": [
       "<matplotlib.collections.PathCollection at 0x7f626d2f2b80>"
      ]
     },
     "execution_count": 100,
     "metadata": {},
     "output_type": "execute_result"
    },
    {
     "data": {
      "image/png": "[encoded data removed]",
      "text/plain": [
       "<Figure size 432x288 with 1 Axes>"
      ]
     },
     "metadata": {
      "needs_background": "light"
     },
     "output_type": "display_data"
    }
   ],
   "source": [
    "plt.scatter(tif_df.loc[:,\"ndvi\"], tif_df.loc[:,\"str\"])"
   ]
  },
  {
   "cell_type": "markdown",
   "id": "e0897587",
   "metadata": {},
   "source": [
    "Why so many ndvi values > 1 ??"
   ]
  },
  {
   "cell_type": "code",
   "execution_count": null,
   "id": "27f19ff0",
   "metadata": {},
   "outputs": [],
   "source": [
    "boa_fp = r\"./sen2r/out/BOA/S2A2A_20181213_141_Walnut-Gulch_BOA_10.tif\"\n",
    "boa = rs.open(boa_fp) "
   ]
  },
  {
   "cell_type": "code",
   "execution_count": null,
   "id": "baac7414",
   "metadata": {},
   "outputs": [],
   "source": [
    "boa.meta"
   ]
  },
  {
   "cell_type": "code",
   "execution_count": null,
   "id": "410b80f0",
   "metadata": {},
   "outputs": [],
   "source": [
    "boa.profile"
   ]
  },
  {
   "cell_type": "code",
   "execution_count": null,
   "id": "3ef1e229",
   "metadata": {},
   "outputs": [],
   "source": [
    "boa.bounds"
   ]
  },
  {
   "cell_type": "code",
   "execution_count": null,
   "id": "019c687a",
   "metadata": {},
   "outputs": [],
   "source": [
    "boa.indexes"
   ]
  },
  {
   "cell_type": "markdown",
   "id": "5d403fb6",
   "metadata": {},
   "source": [
    "----------"
   ]
  },
  {
   "cell_type": "code",
   "execution_count": null,
   "id": "c19cbb32",
   "metadata": {},
   "outputs": [],
   "source": [
    "red   = boa.read(3, masked = True)\n",
    "green = boa.read(4, masked = True)\n",
    "blue  = boa.read(5, masked = True)\n",
    "nir   = boa.read(8, masked = True)\n",
    "swir  = boa.read(11,masked = True)"
   ]
  },
  {
   "cell_type": "code",
   "execution_count": null,
   "id": "5cbe4c24",
   "metadata": {},
   "outputs": [],
   "source": [
    "type(red)"
   ]
  },
  {
   "cell_type": "code",
   "execution_count": null,
   "id": "4d74c298",
   "metadata": {},
   "outputs": [],
   "source": [
    "fig, (axr, axg, axb) = plt.subplots(1,3, figsize=(21,7))\n",
    "show(red, ax=axr, cmap='Reds', title='R')\n",
    "show(green, ax=axg, cmap='Greens', title='G')\n",
    "show(blue, ax=axb, cmap='Blues', title='B')"
   ]
  },
  {
   "cell_type": "code",
   "execution_count": null,
   "id": "239030eb",
   "metadata": {},
   "outputs": [],
   "source": [
    "# Normalize bands into 0.0 - 1.0 scale\n",
    "def normalize(array):\n",
    "    array_min, array_max = array.min(), array.max()\n",
    "    return (array - array_min) / (array_max - array_min)\n",
    "\n",
    "red_norm = normalize(red)\n",
    "green_norm = normalize(green)\n",
    "blue_norm = normalize(blue)\n",
    "\n",
    "bgr = np.dstack((blue_norm, green_norm, red_norm))\n",
    "plt.imshow(bgr)"
   ]
  },
  {
   "cell_type": "markdown",
   "id": "ed40acda",
   "metadata": {},
   "source": [
    "----"
   ]
  },
  {
   "cell_type": "code",
   "execution_count": null,
   "id": "b52e3075",
   "metadata": {},
   "outputs": [],
   "source": [
    "ndvi_fp = \"./sen2r/indices/NDMI/S2A2A_20181213_141_Walnut-Gulch_NDMI_10.tif\"\n",
    "ndvi_rs = rs.open(boa_fp) \n",
    "ndvi = ndvi_rs.read(1, masked = True)"
   ]
  },
  {
   "cell_type": "code",
   "execution_count": null,
   "id": "5507b582",
   "metadata": {
    "scrolled": true
   },
   "outputs": [],
   "source": [
    "show(ndvi, title='NDVI', cmap = \"Greens\")\n",
    "ndvi = ndvi / 10000"
   ]
  },
  {
   "cell_type": "markdown",
   "id": "1f793ac1",
   "metadata": {},
   "source": [
    "----"
   ]
  },
  {
   "cell_type": "code",
   "execution_count": null,
   "id": "2a7145a7",
   "metadata": {},
   "outputs": [],
   "source": [
    "swir = swir / 10000\n",
    "STR = ((1-swir)**2)/(2*swir)"
   ]
  },
  {
   "cell_type": "code",
   "execution_count": null,
   "id": "2929a361",
   "metadata": {},
   "outputs": [],
   "source": [
    "plt.scatter(ndvi, STR)\n",
    "plt.show()\n",
    "\n"
   ]
  },
  {
   "cell_type": "code",
   "execution_count": null,
   "id": "6ff55c0b",
   "metadata": {},
   "outputs": [],
   "source": []
  },
  {
   "cell_type": "code",
   "execution_count": 102,
   "id": "28188080",
   "metadata": {},
   "outputs": [
    {
     "data": {
      "text/plain": [
       "['S2A_MSIL2A_20210101T175741_N0214_R141_T12SWA_20210101T203251.SAFE ',\n",
       " '                                        \"2021-01-01 17:57:41 UTC\" ',\n",
       " 'S2A_MSIL2A_20210104T180741_N0214_R041_T12SWA_20210104T203145.SAFE ',\n",
       " '                                        \"2021-01-04 18:07:41 UTC\" ',\n",
       " 'S2B_MSIL2A_20210106T175729_N0214_R141_T12SWA_20210106T203319.SAFE ',\n",
       " '                                        \"2021-01-06 17:57:29 UTC\" ',\n",
       " 'S2B_MSIL2A_20210109T180729_N0214_R041_T12SWA_20210109T204254.SAFE ',\n",
       " '                                        \"2021-01-09 18:07:29 UTC\" ']"
      ]
     },
     "execution_count": 102,
     "metadata": {},
     "output_type": "execute_result"
    }
   ],
   "source": [
    "dts = ! Rscript ./sen2r/sat_sensing_dt.R \"2021-01-01\" \"2021-01-10\" ./sen2r/Walnut-Gulch.geojson 2> /dev/null\n",
    "dts"
   ]
  }
 ],
 "metadata": {
  "kernelspec": {
   "display_name": "spatial",
   "language": "python",
   "name": "spatial"
  },
  "language_info": {
   "codemirror_mode": {
    "name": "ipython",
    "version": 3
   },
   "file_extension": ".py",
   "mimetype": "text/x-python",
   "name": "python",
   "nbconvert_exporter": "python",
   "pygments_lexer": "ipython3",
   "version": "3.8.12"
  }
 },
 "nbformat": 4,
 "nbformat_minor": 5
}
