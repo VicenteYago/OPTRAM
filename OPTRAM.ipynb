{
 "cells": [
  {
   "cell_type": "markdown",
   "id": "9417359a",
   "metadata": {},
   "source": [
    "# OPTRAM"
   ]
  },
  {
   "cell_type": "code",
   "execution_count": 136,
   "id": "9a8afb8a",
   "metadata": {},
   "outputs": [],
   "source": [
    "import pandas as pd\n",
    "import utm \n",
    "import folium\n",
    "import re\n",
    "from pathlib import Path\n",
    "import geopandas as gpd\n",
    "from shapely import geometry\n",
    "from osgeo import gdal\n",
    "import rasterio\n",
    "import numpy as np\n",
    "import numpy.ma as ma\n",
    "from rasterio import plot\n",
    "from rasterio.plot import show\n",
    "from rasterio.plot import show_hist\n",
    "import matplotlib.pyplot as plt\n",
    "import datetime\n",
    "#from datetime import datetime, timedelta\n",
    "\n",
    "import rasterio as rs\n",
    "from scipy import stats\n",
    "import sys\n",
    "import glob\n",
    "import haversine as hs\n",
    "from haversine import Unit\n",
    "from shapely.geometry import Point\n",
    "from os import listdir\n",
    "from os.path import isfile, join"
   ]
  },
  {
   "cell_type": "markdown",
   "id": "434c9157",
   "metadata": {},
   "source": [
    "### Functions"
   ]
  },
  {
   "cell_type": "code",
   "execution_count": 182,
   "id": "22d48bf1",
   "metadata": {},
   "outputs": [],
   "source": [
    "def utm_to_latlon(coords, zone_number, zone_letter):\n",
    "    easting = coords[0]\n",
    "    northing = coords[1]\n",
    "    return utm.to_latlon(easting, northing, zone_number, zone_letter)\n",
    "\n",
    "\n",
    "def S2_getDate(filename) :\n",
    "    basename = Path(filename).stem  \n",
    "    try :\n",
    "        found = re.search('S2(A|B)2A_(\\d+)_.*',basename).group(2)\n",
    "        dt = datetime.datetime.strptime(found, '%Y%m%d')\n",
    "        \n",
    "    except AttributeError:\n",
    "        raise ValueError('Error: Date can not be extracted from filename %s .' % filename)\n",
    "        \n",
    "    return dt\n",
    "\n",
    "\n",
    "def S2_getSCL(BASE_DIR, date) :\n",
    "    \n",
    "    if (isinstance(date, datetime.date)) : \n",
    "        date_str = date.strftime(\"%Y%m%d\")\n",
    "    \n",
    "    elif (isinstance(date, str)):\n",
    "        print('\"str\" type object detected, converting to datetime.')\n",
    "        date_obj = datetime.datetime.strptime(date, \"%Y%m%d\") \n",
    "        date_str = date_obj.strftime(\"%Y%m%d\")\n",
    "        \n",
    "    else : \n",
    "        raise TypeError('Error:  %s encountered, but \"str\" o \"datetime.date\" expected' % type(date))\n",
    "    \n",
    "    pattern = BASE_DIR + 'SCL/' + '*' + date_str + '*'\n",
    "    \n",
    "    try: \n",
    "        filepath = glob.glob(pathname = pattern)\n",
    "        return filepath[0]\n",
    "    \n",
    "    except AttributeError: \n",
    "        print('Error: File with pattern %s not found' % pattern)\n",
    "\n",
    "        \n",
    "def S2_get_sensing_dt(boa_fp):\n",
    "    days_offset = 1\n",
    "    start_dt = S2_getDate(boa_fp) - datetime.timedelta(days=days_offset)\n",
    "    end_dt   = S2_getDate(boa_fp) + datetime.timedelta(days=days_offset)\n",
    "    \n",
    "    start_dt = start_dt.strftime('%Y-%m-%d')\n",
    "    end_dt   = end_dt.strftime('%Y-%m-%d')\n",
    "\n",
    "    now = datetime.datetime.now().strftime(\"%Y/%m/%d %H:%M:%S\")\n",
    "    print('%s : Requesting image metadata between %s <-> %s...' % (now, start_dt, end_dt))\n",
    "    # bash callback: \n",
    "    dts = ! Rscript ./sen2r/sat_sensing_dt.R $start_dt $end_dt ./sen2r/Walnut-Gulch.geojson 2> /dev/null\n",
    "    print('%s : Done\\n' % datetime.datetime.now().strftime(\"%Y/%m/%d %H:%M:%S\"))\n",
    "\n",
    "    sensing_datetime = datetime.datetime.strptime(dts[1], '                                        \"%Y-%m-%d %H:%M:%S UTC\" ')\n",
    "    return sensing_datetime\n",
    "\n",
    "\n",
    "def is_defective_px(SCL_px_val):\n",
    "    \n",
    "    if ((SCL_px_val == 4) | (SCL_px_val == 5)): # vegetated OR not_vegetated\n",
    "        return False\n",
    "    \n",
    "    else : \n",
    "        return True\n",
    "\n",
    "# Vectorized version\n",
    "is_defective_px_vect = np.vectorize(is_defective_px)\n",
    "\n",
    "# TODO: maybe in the denominator are included alpha values and thus\n",
    "# computing an undervaluated percentage ?\n",
    "# TODO type checks \n",
    "# TODO shape checks  \n",
    "def S2_defective_px_perc(scl_raster) : \n",
    "    not_defective = sum(~np.array(is_defective_px_vect(scl_raster)))\n",
    "    perc = not_defective / len(np.ndarray.flatten(scl_raster))\n",
    "    return perc\n",
    "\n",
    "def get_px_coords_from_raster(boa) :\n",
    "    dataset = boa\n",
    "    val = boa.read(3, masked = True)\n",
    "    no_data = dataset.nodata\n",
    "    geometry = [Point(dataset.xy(x,y)[0],dataset.xy(x,y)[1]) for x,y in np.ndindex(val.shape) if val[x,y] != no_data]\n",
    "    coords_utm = [(point.x, point.y)  for point in geometry]\n",
    "    return (zip(*coords_utm))\n",
    "\n",
    "def build_inSitu_obs(df, dest_lat_lng, sensor_df, utm_n = 12, utm_z = 'N') :\n",
    "    \n",
    "    # Calculate the closest image pixel to the sensor\n",
    "    x = df.loc[:,'utm_x'].tolist()\n",
    "    y = df.loc[:,'utm_y'].tolist()\n",
    "    \n",
    "    print('%s : Calculating haversine distance for %d rows...'\n",
    "          % (datetime.datetime.now().strftime(\"%Y/%m/%d %H:%M:%S\"), len(df)))\n",
    "    \n",
    "    dists = [  hs.haversine(utm_to_latlon(item, utm_n, utm_Z),\n",
    "                            dest_lat_lng, unit = Unit.METERS)\n",
    "        \n",
    "               for item in zip(x,y) \n",
    "    ]\n",
    "    print('%s : Done\\n' % datetime.datetime.now().strftime(\"%Y/%m/%d %H:%M:%S\"))\n",
    "\n",
    "    df['dist'] = dists\n",
    "    \n",
    "    print('%s : Sorting %d rows...' % (datetime.datetime.now().strftime(\"%Y/%m/%d %H:%M:%S\"), len(df)))\n",
    "    df.sort_values('dist', inplace = True)\n",
    "    print('%s : Done\\n' % datetime.datetime.now().strftime(\"%Y/%m/%d %H:%M:%S\"))\n",
    "\n",
    "    df = df.head(1)\n",
    "    df.set_index('datetime', inplace = True)\n",
    "    \n",
    "    # Get the corresponding sensor obs to the pixel\n",
    "    \n",
    "    #https://stackoverflow.com/questions/32237862/find-the-closest-date-to-a-given-date\n",
    "    def nearest(items, pivot):\n",
    "        return min(items, key=lambda x: abs(x - pivot))\n",
    "              \n",
    "    nearest_dt = nearest(items = sensor_df.index, pivot = df.index[0])\n",
    "    val = sensor_df.loc[sensor_df.index == nearest_dt, 'SM5'].values\n",
    "    print('nearest_dt: %s, %s'% (nearest_dt, val))\n",
    "    df['SM5'] = val\n",
    "    return df"
   ]
  },
  {
   "cell_type": "code",
   "execution_count": 13,
   "id": "4bfd4376",
   "metadata": {},
   "outputs": [],
   "source": [
    "if False: # Do not run\n",
    "    \n",
    "    fname = \"./sen2r/out/BOA/S2A2A_20181213_141_Walnut-Gulch_BOA_10.tif\"\n",
    "    print(S2_getDate(fname))\n",
    "    \n",
    "    SCL_file = S2_getSCL(BASE_DIR, date = '20181213')  \n",
    "    print(SCL_file)\n",
    "    "
   ]
  },
  {
   "cell_type": "markdown",
   "id": "ba75ad1a",
   "metadata": {},
   "source": [
    "## REGION OF STUDY\n"
   ]
  },
  {
   "cell_type": "code",
   "execution_count": 14,
   "id": "5faaf1d8",
   "metadata": {},
   "outputs": [
    {
     "data": {
      "text/html": [
       "<div>\n",
       "<style scoped>\n",
       "    .dataframe tbody tr th:only-of-type {\n",
       "        vertical-align: middle;\n",
       "    }\n",
       "\n",
       "    .dataframe tbody tr th {\n",
       "        vertical-align: top;\n",
       "    }\n",
       "\n",
       "    .dataframe thead th {\n",
       "        text-align: right;\n",
       "    }\n",
       "</style>\n",
       "<table border=\"1\" class=\"dataframe\">\n",
       "  <thead>\n",
       "    <tr style=\"text-align: right;\">\n",
       "      <th></th>\n",
       "      <th>MAJOR_SUBW</th>\n",
       "      <th>Shape_Leng</th>\n",
       "      <th>Shape_Area</th>\n",
       "      <th>geometry</th>\n",
       "    </tr>\n",
       "  </thead>\n",
       "  <tbody>\n",
       "    <tr>\n",
       "      <th>0</th>\n",
       "      <td>1.0</td>\n",
       "      <td>78272.01636</td>\n",
       "      <td>1.477542e+08</td>\n",
       "      <td>POLYGON ((605817.380 3515703.128, 605817.505 3...</td>\n",
       "    </tr>\n",
       "  </tbody>\n",
       "</table>\n",
       "</div>"
      ],
      "text/plain": [
       "   MAJOR_SUBW   Shape_Leng    Shape_Area  \\\n",
       "0         1.0  78272.01636  1.477542e+08   \n",
       "\n",
       "                                            geometry  \n",
       "0  POLYGON ((605817.380 3515703.128, 605817.505 3...  "
      ]
     },
     "execution_count": 14,
     "metadata": {},
     "output_type": "execute_result"
    }
   ],
   "source": [
    "swrc = gpd.read_file('./WG-boundary/boundary/boundary.shp')\n",
    "swrc"
   ]
  },
  {
   "cell_type": "markdown",
   "id": "fb065be6",
   "metadata": {},
   "source": [
    "Plotting with Folium requires lat, long data, so we have to convert from UTM"
   ]
  },
  {
   "cell_type": "code",
   "execution_count": 15,
   "id": "0473920e",
   "metadata": {},
   "outputs": [],
   "source": [
    "# Arizona\n",
    "utm_N = 12 \n",
    "utm_Z = 'N'\n",
    "\n",
    "x,y = swrc.geometry[0].exterior.coords.xy\n",
    "points = []\n",
    "for i in range(len(swrc.geometry[0].exterior.coords.xy[1])) : \n",
    "    points.append(utm_to_latlon(coords = [x[i], y[i]],\n",
    "                                zone_number = utm_N,\n",
    "                                zone_letter = utm_Z))\n",
    " \n",
    "\n",
    "points_rev = [(y,x) for x,y in points]\n",
    "swrc['geometry'] = geometry.Polygon(points_rev)"
   ]
  },
  {
   "cell_type": "markdown",
   "id": "364ce154",
   "metadata": {},
   "source": [
    "Also we want to plot the locations of ground probes: "
   ]
  },
  {
   "cell_type": "code",
   "execution_count": 16,
   "id": "dcc0690b",
   "metadata": {},
   "outputs": [],
   "source": [
    "# https://www.tucson.ars.ag.gov/dap/dap_docs/soil.html\n",
    "TDRL1_utm = [589567, 3512290] \n",
    "TDRL2_utm = [589793, 3512420]\n",
    "RG28_utm  = [590624, 3509990]\n",
    "\n",
    "TDRL1_latlong = utm_to_latlon(coords = TDRL1_utm, \n",
    "                              zone_number = utm_N,\n",
    "                              zone_letter = utm_Z)\n",
    "\n",
    "TDRL2_latlong = utm_to_latlon(coords = TDRL2_utm, \n",
    "                              zone_number = utm_N,\n",
    "                              zone_letter = utm_Z)\n",
    "\n",
    "RG28_latlong = utm_to_latlon(coords = RG28_utm, \n",
    "                             zone_number = utm_N,\n",
    "                             zone_letter = utm_Z)\n",
    "\n",
    "sensors_coords = dict({\n",
    "    'TDRL1' : TDRL1_latlong,\n",
    "    'TDRL2' : TDRL2_latlong,\n",
    "    'RG28'  : RG28_latlong  \n",
    "})"
   ]
  },
  {
   "cell_type": "code",
   "execution_count": 17,
   "id": "6f8e079a",
   "metadata": {
    "scrolled": true
   },
   "outputs": [
    {
     "data": {
      "text/html": [
       "<div style=\"width:100%;\"><div style=\"position:relative;width:100%;height:0;padding-bottom:60%;\"><span style=\"color:#565656\">Make this Notebook Trusted to load map: File -> Trust Notebook</span><iframe src=\"about:blank\" style=\"position:absolute;width:100%;height:100%;left:0;top:0;border:none !important;\" data-html=%3C%21DOCTYPE%20html%3E%0A%3Chead%3E%20%20%20%20%0A%20%20%20%20%3Cmeta%20http-equiv%3D%22content-type%22%20content%3D%22text/html%3B%20charset%3DUTF-8%22%20/%3E%0A%20%20%20%20%0A%20%20%20%20%20%20%20%20%3Cscript%3E%0A%20%20%20%20%20%20%20%20%20%20%20%20L_NO_TOUCH%20%3D%20false%3B%0A%20%20%20%20%20%20%20%20%20%20%20%20L_DISABLE_3D%20%3D%20false%3B%0A%20%20%20%20%20%20%20%20%3C/script%3E%0A%20%20%20%20%0A%20%20%20%20%3Cstyle%3Ehtml%2C%20body%20%7Bwidth%3A%20100%25%3Bheight%3A%20100%25%3Bmargin%3A%200%3Bpadding%3A%200%3B%7D%3C/style%3E%0A%20%20%20%20%3Cstyle%3E%23map%20%7Bposition%3Aabsolute%3Btop%3A0%3Bbottom%3A0%3Bright%3A0%3Bleft%3A0%3B%7D%3C/style%3E%0A%20%20%20%20%3Cscript%20src%3D%22https%3A//cdn.jsdelivr.net/npm/leaflet%401.6.0/dist/leaflet.js%22%3E%3C/script%3E%0A%20%20%20%20%3Cscript%20src%3D%22https%3A//code.jquery.com/jquery-1.12.4.min.js%22%3E%3C/script%3E%0A%20%20%20%20%3Cscript%20src%3D%22https%3A//maxcdn.bootstrapcdn.com/bootstrap/3.2.0/js/bootstrap.min.js%22%3E%3C/script%3E%0A%20%20%20%20%3Cscript%20src%3D%22https%3A//cdnjs.cloudflare.com/ajax/libs/Leaflet.awesome-markers/2.0.2/leaflet.awesome-markers.js%22%3E%3C/script%3E%0A%20%20%20%20%3Clink%20rel%3D%22stylesheet%22%20href%3D%22https%3A//cdn.jsdelivr.net/npm/leaflet%401.6.0/dist/leaflet.css%22/%3E%0A%20%20%20%20%3Clink%20rel%3D%22stylesheet%22%20href%3D%22https%3A//maxcdn.bootstrapcdn.com/bootstrap/3.2.0/css/bootstrap.min.css%22/%3E%0A%20%20%20%20%3Clink%20rel%3D%22stylesheet%22%20href%3D%22https%3A//maxcdn.bootstrapcdn.com/bootstrap/3.2.0/css/bootstrap-theme.min.css%22/%3E%0A%20%20%20%20%3Clink%20rel%3D%22stylesheet%22%20href%3D%22https%3A//maxcdn.bootstrapcdn.com/font-awesome/4.6.3/css/font-awesome.min.css%22/%3E%0A%20%20%20%20%3Clink%20rel%3D%22stylesheet%22%20href%3D%22https%3A//cdnjs.cloudflare.com/ajax/libs/Leaflet.awesome-markers/2.0.2/leaflet.awesome-markers.css%22/%3E%0A%20%20%20%20%3Clink%20rel%3D%22stylesheet%22%20href%3D%22https%3A//cdn.jsdelivr.net/gh/python-visualization/folium/folium/templates/leaflet.awesome.rotate.min.css%22/%3E%0A%20%20%20%20%0A%20%20%20%20%20%20%20%20%20%20%20%20%3Cmeta%20name%3D%22viewport%22%20content%3D%22width%3Ddevice-width%2C%0A%20%20%20%20%20%20%20%20%20%20%20%20%20%20%20%20initial-scale%3D1.0%2C%20maximum-scale%3D1.0%2C%20user-scalable%3Dno%22%20/%3E%0A%20%20%20%20%20%20%20%20%20%20%20%20%3Cstyle%3E%0A%20%20%20%20%20%20%20%20%20%20%20%20%20%20%20%20%23map_62c43181da2841b4a96698ab7a9505c4%20%7B%0A%20%20%20%20%20%20%20%20%20%20%20%20%20%20%20%20%20%20%20%20position%3A%20relative%3B%0A%20%20%20%20%20%20%20%20%20%20%20%20%20%20%20%20%20%20%20%20width%3A%20100.0%25%3B%0A%20%20%20%20%20%20%20%20%20%20%20%20%20%20%20%20%20%20%20%20height%3A%20100.0%25%3B%0A%20%20%20%20%20%20%20%20%20%20%20%20%20%20%20%20%20%20%20%20left%3A%200.0%25%3B%0A%20%20%20%20%20%20%20%20%20%20%20%20%20%20%20%20%20%20%20%20top%3A%200.0%25%3B%0A%20%20%20%20%20%20%20%20%20%20%20%20%20%20%20%20%7D%0A%20%20%20%20%20%20%20%20%20%20%20%20%3C/style%3E%0A%20%20%20%20%20%20%20%20%0A%3C/head%3E%0A%3Cbody%3E%20%20%20%20%0A%20%20%20%20%0A%20%20%20%20%20%20%20%20%20%20%20%20%3Cdiv%20class%3D%22folium-map%22%20id%3D%22map_62c43181da2841b4a96698ab7a9505c4%22%20%3E%3C/div%3E%0A%20%20%20%20%20%20%20%20%0A%3C/body%3E%0A%3Cscript%3E%20%20%20%20%0A%20%20%20%20%0A%20%20%20%20%20%20%20%20%20%20%20%20var%20map_62c43181da2841b4a96698ab7a9505c4%20%3D%20L.map%28%0A%20%20%20%20%20%20%20%20%20%20%20%20%20%20%20%20%22map_62c43181da2841b4a96698ab7a9505c4%22%2C%0A%20%20%20%20%20%20%20%20%20%20%20%20%20%20%20%20%7B%0A%20%20%20%20%20%20%20%20%20%20%20%20%20%20%20%20%20%20%20%20center%3A%20%5B31.713068%2C%20-110.025442%5D%2C%0A%20%20%20%20%20%20%20%20%20%20%20%20%20%20%20%20%20%20%20%20crs%3A%20L.CRS.EPSG3857%2C%0A%20%20%20%20%20%20%20%20%20%20%20%20%20%20%20%20%20%20%20%20zoom%3A%2011%2C%0A%20%20%20%20%20%20%20%20%20%20%20%20%20%20%20%20%20%20%20%20zoomControl%3A%20true%2C%0A%20%20%20%20%20%20%20%20%20%20%20%20%20%20%20%20%20%20%20%20preferCanvas%3A%20false%2C%0A%20%20%20%20%20%20%20%20%20%20%20%20%20%20%20%20%7D%0A%20%20%20%20%20%20%20%20%20%20%20%20%29%3B%0A%0A%20%20%20%20%20%20%20%20%20%20%20%20%0A%0A%20%20%20%20%20%20%20%20%0A%20%20%20%20%0A%20%20%20%20%20%20%20%20%20%20%20%20var%20tile_layer_7ab2c3a7aa9a43a68f8c7a3c3b4cd8e9%20%3D%20L.tileLayer%28%0A%20%20%20%20%20%20%20%20%20%20%20%20%20%20%20%20%22https%3A//cartodb-basemaps-%7Bs%7D.global.ssl.fastly.net/light_all/%7Bz%7D/%7Bx%7D/%7By%7D.png%22%2C%0A%20%20%20%20%20%20%20%20%20%20%20%20%20%20%20%20%7B%22attribution%22%3A%20%22%5Cu0026copy%3B%20%5Cu003ca%20href%3D%5C%22http%3A//www.openstreetmap.org/copyright%5C%22%5Cu003eOpenStreetMap%5Cu003c/a%5Cu003e%20contributors%20%5Cu0026copy%3B%20%5Cu003ca%20href%3D%5C%22http%3A//cartodb.com/attributions%5C%22%5Cu003eCartoDB%5Cu003c/a%5Cu003e%2C%20CartoDB%20%5Cu003ca%20href%20%3D%5C%22http%3A//cartodb.com/attributions%5C%22%5Cu003eattributions%5Cu003c/a%5Cu003e%22%2C%20%22detectRetina%22%3A%20false%2C%20%22maxNativeZoom%22%3A%2018%2C%20%22maxZoom%22%3A%2018%2C%20%22minZoom%22%3A%200%2C%20%22noWrap%22%3A%20false%2C%20%22opacity%22%3A%201%2C%20%22subdomains%22%3A%20%22abc%22%2C%20%22tms%22%3A%20false%7D%0A%20%20%20%20%20%20%20%20%20%20%20%20%29.addTo%28map_62c43181da2841b4a96698ab7a9505c4%29%3B%0A%20%20%20%20%20%20%20%20%0A%20%20%20%20%0A%20%20%20%20%20%20%20%20function%20geo_json_29c96c05ea674094a45be3961ecf4083_styler%28feature%29%20%7B%0A%20%20%20%20%20%20%20%20%20%20%20%20switch%28feature.id%29%20%7B%0A%20%20%20%20%20%20%20%20%20%20%20%20%20%20%20%20default%3A%0A%20%20%20%20%20%20%20%20%20%20%20%20%20%20%20%20%20%20%20%20return%20%7B%22fillColor%22%3A%20%22orange%22%7D%3B%0A%20%20%20%20%20%20%20%20%20%20%20%20%7D%0A%20%20%20%20%20%20%20%20%7D%0A%0A%20%20%20%20%20%20%20%20function%20geo_json_29c96c05ea674094a45be3961ecf4083_onEachFeature%28feature%2C%20layer%29%20%7B%0A%20%20%20%20%20%20%20%20%20%20%20%20layer.on%28%7B%0A%20%20%20%20%20%20%20%20%20%20%20%20%7D%29%3B%0A%20%20%20%20%20%20%20%20%7D%3B%0A%20%20%20%20%20%20%20%20var%20geo_json_29c96c05ea674094a45be3961ecf4083%20%3D%20L.geoJson%28null%2C%20%7B%0A%20%20%20%20%20%20%20%20%20%20%20%20%20%20%20%20onEachFeature%3A%20geo_json_29c96c05ea674094a45be3961ecf4083_onEachFeature%2C%0A%20%20%20%20%20%20%20%20%20%20%20%20%0A%20%20%20%20%20%20%20%20%20%20%20%20%20%20%20%20style%3A%20geo_json_29c96c05ea674094a45be3961ecf4083_styler%2C%0A%20%20%20%20%20%20%20%20%7D%29%3B%0A%0A%20%20%20%20%20%20%20%20function%20geo_json_29c96c05ea674094a45be3961ecf4083_add%20%28data%29%20%7B%0A%20%20%20%20%20%20%20%20%20%20%20%20geo_json_29c96c05ea674094a45be3961ecf4083%0A%20%20%20%20%20%20%20%20%20%20%20%20%20%20%20%20.addData%28data%29%0A%20%20%20%20%20%20%20%20%20%20%20%20%20%20%20%20.addTo%28map_62c43181da2841b4a96698ab7a9505c4%29%3B%0A%20%20%20%20%20%20%20%20%7D%0A%20%20%20%20%20%20%20%20%20%20%20%20geo_json_29c96c05ea674094a45be3961ecf4083_add%28%7B%22bbox%22%3A%20%5B-110.15356523662584%2C%2031.663950098486403%2C%20-109.8780510989751%2C%2031.77196086872937%5D%2C%20%22features%22%3A%20%5B%7B%22bbox%22%3A%20%5B-110.15356523662584%2C%2031.663950098486403%2C%20-109.8780510989751%2C%2031.77196086872937%5D%2C%20%22geometry%22%3A%20%7B%22coordinates%22%3A%20%5B%5B%5B-109.88249882591717%2C%2031.77196086872937%5D%2C%20%5B-109.8808631099572%2C%2031.767653436011067%5D%2C%20%5B-109.8780510989751%2C%2031.766841073775215%5D%2C%20%5B-109.88092056596426%2C%2031.762573773811116%5D%2C%20%5B-109.88554292429562%2C%2031.767085600697925%5D%2C%20%5B-109.89147434362745%2C%2031.768617813797807%5D%2C%20%5B-109.89645879963672%2C%2031.767722133584005%5D%2C%20%5B-109.89984789987021%2C%2031.764734794630584%5D%2C%20%5B-109.89819850536962%2C%2031.76216973605926%5D%2C%20%5B-109.89954394155198%2C%2031.760827360954334%5D%2C%20%5B-109.89867515222575%2C%2031.75893944244674%5D%2C%20%5B-109.90137053674835%2C%2031.75513659981323%5D%2C%20%5B-109.91668547262475%2C%2031.74730274268177%5D%2C%20%5B-109.91636181941355%2C%2031.743770026241872%5D%2C%20%5B-109.91933282036912%2C%2031.741261880159765%5D%2C%20%5B-109.91848587473531%2C%2031.739388150210818%5D%2C%20%5B-109.920744644375%2C%2031.736800081468136%5D%2C%20%5B-109.92028942630652%2C%2031.735235032476204%5D%2C%20%5B-109.92264269871923%2C%2031.731444266501267%5D%2C%20%5B-109.93074957868035%2C%2031.725409023871112%5D%2C%20%5B-109.93121073549867%2C%2031.718917393437334%5D%2C%20%5B-109.93697811443562%2C%2031.711161968687783%5D%2C%20%5B-109.94066629240034%2C%2031.714547906665185%5D%2C%20%5B-109.9439029429051%2C%2031.715014069591234%5D%2C%20%5B-109.9524574042974%2C%2031.711342059452804%5D%2C%20%5B-109.95572644424891%2C%2031.711840504728467%5D%2C%20%5B-109.96105509334846%2C%2031.708825311135634%5D%2C%20%5B-109.96319246520058%2C%2031.705297223439427%5D%2C%20%5B-109.97444538007716%2C%2031.70399365165723%5D%2C%20%5B-109.97680038681543%2C%2031.700409143899773%5D%2C%20%5B-109.98003668237283%2C%2031.70262731115172%5D%2C%20%5B-109.98266610535408%2C%2031.701971689387157%5D%2C%20%5B-109.98626033634002%2C%2031.69488513187538%5D%2C%20%5B-109.98358204408642%2C%2031.689076724573503%5D%2C%20%5B-109.98687980419066%2C%2031.685477020191858%5D%2C%20%5B-109.98626643356882%2C%2031.682847445970335%5D%2C%20%5B-109.99253135312401%2C%2031.681615993102863%5D%2C%20%5B-109.99508812627516%2C%2031.674121118398304%5D%2C%20%5B-109.99944646718508%2C%2031.67071755862189%5D%2C%20%5B-110.00719477683636%2C%2031.669614863583046%5D%2C%20%5B-110.0103285844753%2C%2031.66574185381834%5D%2C%20%5B-110.01211588428951%2C%2031.668038197194534%5D%2C%20%5B-110.02537162643644%2C%2031.669006270735217%5D%2C%20%5B-110.03595470714312%2C%2031.663950098486403%5D%2C%20%5B-110.03745750915535%2C%2031.666382562774874%5D%2C%20%5B-110.03524290944519%2C%2031.670227085382717%5D%2C%20%5B-110.03603035202953%2C%2031.672497489202637%5D%2C%20%5B-110.04165658469643%2C%2031.674785774597623%5D%2C%20%5B-110.04059275444509%2C%2031.677258433016437%5D%2C%20%5B-110.04248166173278%2C%2031.68295714642713%5D%2C%20%5B-110.04536295810162%2C%2031.684258327328777%5D%2C%20%5B-110.05226797385343%2C%2031.68446471837779%5D%2C%20%5B-110.05480664705361%2C%2031.67675719891326%5D%2C%20%5B-110.05807238911358%2C%2031.676658831622063%5D%2C%20%5B-110.06245143855725%2C%2031.671638930303253%5D%2C%20%5B-110.07257699734535%2C%2031.66807720208925%5D%2C%20%5B-110.07353838375988%2C%2031.675355725045588%5D%2C%20%5B-110.08090200110786%2C%2031.67558441462761%5D%2C%20%5B-110.07764144858336%2C%2031.682214103580655%5D%2C%20%5B-110.08094481525211%2C%2031.686378923934168%5D%2C%20%5B-110.07723070896758%2C%2031.68872566073162%5D%2C%20%5B-110.07690324606428%2C%2031.691596413869373%5D%2C%20%5B-110.08387345501355%2C%2031.69436704807718%5D%2C%20%5B-110.09035653648824%2C%2031.693482617602953%5D%2C%20%5B-110.09293226047554%2C%2031.696334518652755%5D%2C%20%5B-110.10922077533839%2C%2031.69559226383643%5D%2C%20%5B-110.11037606905415%2C%2031.69780488098471%5D%2C%20%5B-110.10475753940554%2C%2031.699972645356127%5D%2C%20%5B-110.10580772393457%2C%2031.706071502288772%5D%2C%20%5B-110.1177417696896%2C%2031.710971436581215%5D%2C%20%5B-110.12741795584037%2C%2031.70725931756247%5D%2C%20%5B-110.13080570605817%2C%2031.71404636121821%5D%2C%20%5B-110.13517275043066%2C%2031.718407325429233%5D%2C%20%5B-110.14246343077795%2C%2031.72300940445625%5D%2C%20%5B-110.14973673844844%2C%2031.723323225601273%5D%2C%20%5B-110.15356523662584%2C%2031.729844713904612%5D%2C%20%5B-110.14827651069601%2C%2031.734483158140005%5D%2C%20%5B-110.14750073622464%2C%2031.737101038579326%5D%2C%20%5B-110.13457439971077%2C%2031.7454425097202%5D%2C%20%5B-110.12946788404105%2C%2031.745767738472225%5D%2C%20%5B-110.12369691163558%2C%2031.743959904523578%5D%2C%20%5B-110.12052148606489%2C%2031.746788875265626%5D%2C%20%5B-110.10919149817362%2C%2031.748242803208683%5D%2C%20%5B-110.08280637713882%2C%2031.74896376377388%5D%2C%20%5B-110.0724461217019%2C%2031.751896883178404%5D%2C%20%5B-110.0549623589049%2C%2031.753586895274648%5D%2C%20%5B-110.0391521142242%2C%2031.752650895156382%5D%2C%20%5B-110.02931573957707%2C%2031.75622155513099%5D%2C%20%5B-110.01376810523945%2C%2031.75701326448948%5D%2C%20%5B-110.00542868837982%2C%2031.76032213832295%5D%2C%20%5B-109.98764433530376%2C%2031.762825724021738%5D%2C%20%5B-109.9769927586387%2C%2031.763110719136744%5D%2C%20%5B-109.97599953577046%2C%2031.76163206382832%5D%2C%20%5B-109.96611381493244%2C%2031.760510516573177%5D%2C%20%5B-109.95643945180268%2C%2031.756746127047496%5D%2C%20%5B-109.94117011679353%2C%2031.759714565130228%5D%2C%20%5B-109.93613896247506%2C%2031.758805713389773%5D%2C%20%5B-109.93085409276256%2C%2031.761125088197268%5D%2C%20%5B-109.92103665553819%2C%2031.760013867702877%5D%2C%20%5B-109.91798184173194%2C%2031.76377347578657%5D%2C%20%5B-109.90019081115493%2C%2031.771690799964755%5D%2C%20%5B-109.89808127511218%2C%2031.77070619445939%5D%2C%20%5B-109.88249882591717%2C%2031.77196086872937%5D%5D%5D%2C%20%22type%22%3A%20%22Polygon%22%7D%2C%20%22id%22%3A%20%220%22%2C%20%22properties%22%3A%20%7B%7D%2C%20%22type%22%3A%20%22Feature%22%7D%5D%2C%20%22type%22%3A%20%22FeatureCollection%22%7D%29%3B%0A%0A%20%20%20%20%20%20%20%20%0A%20%20%20%20%0A%20%20%20%20%20%20%20%20%20%20%20%20var%20marker_e4e6b0a80f074933995d9426e0517338%20%3D%20L.marker%28%0A%20%20%20%20%20%20%20%20%20%20%20%20%20%20%20%20%5B31.742561324317492%2C%20-110.05440485466326%5D%2C%0A%20%20%20%20%20%20%20%20%20%20%20%20%20%20%20%20%7B%7D%0A%20%20%20%20%20%20%20%20%20%20%20%20%29.addTo%28map_62c43181da2841b4a96698ab7a9505c4%29%3B%0A%20%20%20%20%20%20%20%20%0A%20%20%20%20%0A%20%20%20%20%20%20%20%20var%20popup_f6f8bad55a054cabba74ee5d72ad3457%20%3D%20L.popup%28%7B%22maxWidth%22%3A%20%22100%25%22%7D%29%3B%0A%0A%20%20%20%20%20%20%20%20%0A%20%20%20%20%20%20%20%20%20%20%20%20var%20html_ab8973a6667f4280a1c175fabd5f7791%20%3D%20%24%28%60%3Cdiv%20id%3D%22html_ab8973a6667f4280a1c175fabd5f7791%22%20style%3D%22width%3A%20100.0%25%3B%20height%3A%20100.0%25%3B%22%3ETDRL1%3C/div%3E%60%29%5B0%5D%3B%0A%20%20%20%20%20%20%20%20%20%20%20%20popup_f6f8bad55a054cabba74ee5d72ad3457.setContent%28html_ab8973a6667f4280a1c175fabd5f7791%29%3B%0A%20%20%20%20%20%20%20%20%0A%0A%20%20%20%20%20%20%20%20marker_e4e6b0a80f074933995d9426e0517338.bindPopup%28popup_f6f8bad55a054cabba74ee5d72ad3457%29%0A%20%20%20%20%20%20%20%20%3B%0A%0A%20%20%20%20%20%20%20%20%0A%20%20%20%20%0A%20%20%20%20%0A%20%20%20%20%20%20%20%20%20%20%20%20%20%20%20%20function%20newMarker%28e%29%7B%0A%20%20%20%20%20%20%20%20%20%20%20%20%20%20%20%20%20%20%20%20var%20new_mark%20%3D%20L.marker%28%29.setLatLng%28e.latlng%29.addTo%28map_62c43181da2841b4a96698ab7a9505c4%29%3B%0A%20%20%20%20%20%20%20%20%20%20%20%20%20%20%20%20%20%20%20%20new_mark.dragging.enable%28%29%3B%0A%20%20%20%20%20%20%20%20%20%20%20%20%20%20%20%20%20%20%20%20new_mark.on%28%27dblclick%27%2C%20function%28e%29%7B%20map_62c43181da2841b4a96698ab7a9505c4.removeLayer%28e.target%29%7D%29%0A%20%20%20%20%20%20%20%20%20%20%20%20%20%20%20%20%20%20%20%20var%20lat%20%3D%20e.latlng.lat.toFixed%284%29%2C%0A%20%20%20%20%20%20%20%20%20%20%20%20%20%20%20%20%20%20%20%20%20%20%20lng%20%3D%20e.latlng.lng.toFixed%284%29%3B%0A%20%20%20%20%20%20%20%20%20%20%20%20%20%20%20%20%20%20%20%20new_mark.bindPopup%28%22Waypoint%22%29%3B%0A%20%20%20%20%20%20%20%20%20%20%20%20%20%20%20%20%20%20%20%20%7D%3B%0A%20%20%20%20%20%20%20%20%20%20%20%20%20%20%20%20map_62c43181da2841b4a96698ab7a9505c4.on%28%27click%27%2C%20newMarker%29%3B%0A%20%20%20%20%20%20%20%20%20%20%20%20%0A%20%20%20%20%0A%20%20%20%20%20%20%20%20%20%20%20%20var%20marker_0433e3937ca94746bd4a0760a26a1198%20%3D%20L.marker%28%0A%20%20%20%20%20%20%20%20%20%20%20%20%20%20%20%20%5B31.74371632084104%2C%20-110.05200721263682%5D%2C%0A%20%20%20%20%20%20%20%20%20%20%20%20%20%20%20%20%7B%7D%0A%20%20%20%20%20%20%20%20%20%20%20%20%29.addTo%28map_62c43181da2841b4a96698ab7a9505c4%29%3B%0A%20%20%20%20%20%20%20%20%0A%20%20%20%20%0A%20%20%20%20%20%20%20%20var%20popup_c001f3d8f99742c0a0eb9a2ac7ee3cb6%20%3D%20L.popup%28%7B%22maxWidth%22%3A%20%22100%25%22%7D%29%3B%0A%0A%20%20%20%20%20%20%20%20%0A%20%20%20%20%20%20%20%20%20%20%20%20var%20html_6558ab3d66b14d2eb52ed257a5f817ae%20%3D%20%24%28%60%3Cdiv%20id%3D%22html_6558ab3d66b14d2eb52ed257a5f817ae%22%20style%3D%22width%3A%20100.0%25%3B%20height%3A%20100.0%25%3B%22%3ETDRL2%3C/div%3E%60%29%5B0%5D%3B%0A%20%20%20%20%20%20%20%20%20%20%20%20popup_c001f3d8f99742c0a0eb9a2ac7ee3cb6.setContent%28html_6558ab3d66b14d2eb52ed257a5f817ae%29%3B%0A%20%20%20%20%20%20%20%20%0A%0A%20%20%20%20%20%20%20%20marker_0433e3937ca94746bd4a0760a26a1198.bindPopup%28popup_c001f3d8f99742c0a0eb9a2ac7ee3cb6%29%0A%20%20%20%20%20%20%20%20%3B%0A%0A%20%20%20%20%20%20%20%20%0A%20%20%20%20%0A%20%20%20%20%0A%20%20%20%20%20%20%20%20%20%20%20%20%20%20%20%20function%20newMarker%28e%29%7B%0A%20%20%20%20%20%20%20%20%20%20%20%20%20%20%20%20%20%20%20%20var%20new_mark%20%3D%20L.marker%28%29.setLatLng%28e.latlng%29.addTo%28map_62c43181da2841b4a96698ab7a9505c4%29%3B%0A%20%20%20%20%20%20%20%20%20%20%20%20%20%20%20%20%20%20%20%20new_mark.dragging.enable%28%29%3B%0A%20%20%20%20%20%20%20%20%20%20%20%20%20%20%20%20%20%20%20%20new_mark.on%28%27dblclick%27%2C%20function%28e%29%7B%20map_62c43181da2841b4a96698ab7a9505c4.removeLayer%28e.target%29%7D%29%0A%20%20%20%20%20%20%20%20%20%20%20%20%20%20%20%20%20%20%20%20var%20lat%20%3D%20e.latlng.lat.toFixed%284%29%2C%0A%20%20%20%20%20%20%20%20%20%20%20%20%20%20%20%20%20%20%20%20%20%20%20lng%20%3D%20e.latlng.lng.toFixed%284%29%3B%0A%20%20%20%20%20%20%20%20%20%20%20%20%20%20%20%20%20%20%20%20new_mark.bindPopup%28%22Waypoint%22%29%3B%0A%20%20%20%20%20%20%20%20%20%20%20%20%20%20%20%20%20%20%20%20%7D%3B%0A%20%20%20%20%20%20%20%20%20%20%20%20%20%20%20%20map_62c43181da2841b4a96698ab7a9505c4.on%28%27click%27%2C%20newMarker%29%3B%0A%20%20%20%20%20%20%20%20%20%20%20%20%0A%20%20%20%20%0A%20%20%20%20%20%20%20%20%20%20%20%20var%20marker_cd0314af66bc4e4c938888c2d6fa8f89%20%3D%20L.marker%28%0A%20%20%20%20%20%20%20%20%20%20%20%20%20%20%20%20%5B31.72172989309869%2C%20-110.04346020199642%5D%2C%0A%20%20%20%20%20%20%20%20%20%20%20%20%20%20%20%20%7B%7D%0A%20%20%20%20%20%20%20%20%20%20%20%20%29.addTo%28map_62c43181da2841b4a96698ab7a9505c4%29%3B%0A%20%20%20%20%20%20%20%20%0A%20%20%20%20%0A%20%20%20%20%20%20%20%20var%20popup_f7c82309a1df4f41a5d7b060f9fb03f9%20%3D%20L.popup%28%7B%22maxWidth%22%3A%20%22100%25%22%7D%29%3B%0A%0A%20%20%20%20%20%20%20%20%0A%20%20%20%20%20%20%20%20%20%20%20%20var%20html_7697e13fa7694cd39b5c5e53959270eb%20%3D%20%24%28%60%3Cdiv%20id%3D%22html_7697e13fa7694cd39b5c5e53959270eb%22%20style%3D%22width%3A%20100.0%25%3B%20height%3A%20100.0%25%3B%22%3ERG28%3C/div%3E%60%29%5B0%5D%3B%0A%20%20%20%20%20%20%20%20%20%20%20%20popup_f7c82309a1df4f41a5d7b060f9fb03f9.setContent%28html_7697e13fa7694cd39b5c5e53959270eb%29%3B%0A%20%20%20%20%20%20%20%20%0A%0A%20%20%20%20%20%20%20%20marker_cd0314af66bc4e4c938888c2d6fa8f89.bindPopup%28popup_f7c82309a1df4f41a5d7b060f9fb03f9%29%0A%20%20%20%20%20%20%20%20%3B%0A%0A%20%20%20%20%20%20%20%20%0A%20%20%20%20%0A%20%20%20%20%0A%20%20%20%20%20%20%20%20%20%20%20%20%20%20%20%20function%20newMarker%28e%29%7B%0A%20%20%20%20%20%20%20%20%20%20%20%20%20%20%20%20%20%20%20%20var%20new_mark%20%3D%20L.marker%28%29.setLatLng%28e.latlng%29.addTo%28map_62c43181da2841b4a96698ab7a9505c4%29%3B%0A%20%20%20%20%20%20%20%20%20%20%20%20%20%20%20%20%20%20%20%20new_mark.dragging.enable%28%29%3B%0A%20%20%20%20%20%20%20%20%20%20%20%20%20%20%20%20%20%20%20%20new_mark.on%28%27dblclick%27%2C%20function%28e%29%7B%20map_62c43181da2841b4a96698ab7a9505c4.removeLayer%28e.target%29%7D%29%0A%20%20%20%20%20%20%20%20%20%20%20%20%20%20%20%20%20%20%20%20var%20lat%20%3D%20e.latlng.lat.toFixed%284%29%2C%0A%20%20%20%20%20%20%20%20%20%20%20%20%20%20%20%20%20%20%20%20%20%20%20lng%20%3D%20e.latlng.lng.toFixed%284%29%3B%0A%20%20%20%20%20%20%20%20%20%20%20%20%20%20%20%20%20%20%20%20new_mark.bindPopup%28%22Waypoint%22%29%3B%0A%20%20%20%20%20%20%20%20%20%20%20%20%20%20%20%20%20%20%20%20%7D%3B%0A%20%20%20%20%20%20%20%20%20%20%20%20%20%20%20%20map_62c43181da2841b4a96698ab7a9505c4.on%28%27click%27%2C%20newMarker%29%3B%0A%20%20%20%20%20%20%20%20%20%20%20%20%0A%3C/script%3E onload=\"this.contentDocument.open();this.contentDocument.write(    decodeURIComponent(this.getAttribute('data-html')));this.contentDocument.close();\" allowfullscreen webkitallowfullscreen mozallowfullscreen></iframe></div></div>"
      ],
      "text/plain": [
       "<folium.folium.Map at 0x7fae8c765460>"
      ]
     },
     "execution_count": 17,
     "metadata": {},
     "output_type": "execute_result"
    }
   ],
   "source": [
    "m = folium.Map(location = [31.713068,  -110.025442],\n",
    "               zoom_start = 11,\n",
    "               tiles = \"CartoDB positron\")\n",
    "\n",
    "for _, r in swrc.iterrows():\n",
    "    sim_geo = gpd.GeoSeries(r['geometry']).simplify(tolerance=0.001)\n",
    "    geo_j = sim_geo.to_json()\n",
    "    geo_j = folium.GeoJson(data=geo_j,\n",
    "                           style_function=lambda x: {'fillColor': 'orange'})\n",
    "    geo_j.add_to(m)\n",
    "    \n",
    "\n",
    "folium.Marker(TDRL1_latlong, popup=\"TDRL1\").add_to(m)\n",
    "m.add_child(folium.ClickForMarker(popup=\"Waypoint\"))\n",
    "\n",
    "folium.Marker(TDRL2_latlong, popup=\"TDRL2\").add_to(m)\n",
    "m.add_child(folium.ClickForMarker(popup=\"Waypoint\"))\n",
    "\n",
    "folium.Marker(RG28_latlong, popup=\"RG28\").add_to(m)\n",
    "m.add_child(folium.ClickForMarker(popup=\"Waypoint\"))\n",
    "\n",
    "m"
   ]
  },
  {
   "cell_type": "markdown",
   "id": "0643f034",
   "metadata": {},
   "source": [
    " Shapefile to geojson conversion"
   ]
  },
  {
   "cell_type": "code",
   "execution_count": 18,
   "id": "54a49541",
   "metadata": {},
   "outputs": [
    {
     "name": "stderr",
     "output_type": "stream",
     "text": [
      "/home/vyago/miniconda3/envs/spatial/lib/python3.8/site-packages/geopandas/io/file.py:362: FutureWarning: pandas.Int64Index is deprecated and will be removed from pandas in a future version. Use pandas.Index with the appropriate dtype instead.\n",
      "  pd.Int64Index,\n"
     ]
    }
   ],
   "source": [
    "swrc.to_crs(epsg=4326)\n",
    "swrc.to_file('./sen2r/Walnut-Gulch.geojson', driver='GeoJSON')"
   ]
  },
  {
   "cell_type": "markdown",
   "id": "3e128fac",
   "metadata": {},
   "source": [
    "## LOAD DATA"
   ]
  },
  {
   "cell_type": "markdown",
   "id": "14deb707",
   "metadata": {},
   "source": [
    "### Sensor "
   ]
  },
  {
   "cell_type": "code",
   "execution_count": 116,
   "id": "bd31c62c",
   "metadata": {},
   "outputs": [],
   "source": [
    "names = [\"site\", \"year\", \"day\", \"hr\", \"mn\", \"SM5\", \"SM15\", \"SM30\", \"SM50\", \"SM75\", \"SM100\", \"SM200\"]\n",
    "l1tdr18 = pd.read_csv('https://www.tucson.ars.ag.gov/metDAP/SoilProfileSiteData/l1tdr18.out',\n",
    "                  sep='\\s+', \n",
    "                  names = names)\n",
    "\n",
    "l2tdr18 = pd.read_csv('https://www.tucson.ars.ag.gov/metDAP/SoilProfileSiteData/l2tdr18.out',\n",
    "                  sep='\\s+', \n",
    "                  names = names)\n",
    "\n",
    "names = [\"site\", \"year\", \"day\", \"hr\", \"mn\", \"SM5\", \"ST5\"]\n",
    "rg28    = pd.read_csv('https://www.tucson.ars.ag.gov/metDAP/RaingageSiteData/rg28vt18.out',\n",
    "                  sep=',', \n",
    "                  names = names)"
   ]
  },
  {
   "cell_type": "code",
   "execution_count": 117,
   "id": "9001fba5",
   "metadata": {},
   "outputs": [],
   "source": [
    "l1tdr18[\"datetime\"] = (\n",
    "                        pd.to_datetime(l1tdr18['year'] * 1000 + l1tdr18['day'], format='%Y%j') \n",
    "                        +\n",
    "                        pd.to_timedelta(l1tdr18[\"hr\"], unit=\"h\") \n",
    "                        +\n",
    "                        pd.to_timedelta(l1tdr18[\"mn\"], unit=\"min\") \n",
    "                      )\n",
    "\n",
    "l2tdr18[\"datetime\"] = (\n",
    "                        pd.to_datetime(l2tdr18['year'] * 1000 + l2tdr18['day'], format='%Y%j') \n",
    "                        +\n",
    "                        pd.to_timedelta(l2tdr18[\"hr\"], unit=\"h\") \n",
    "                        +\n",
    "                        pd.to_timedelta(l2tdr18[\"mn\"], unit=\"min\") \n",
    "                      )\n",
    "\n",
    "rg28[\"datetime\"]    = (\n",
    "                        pd.to_datetime(rg28['year'] * 1000 + rg28['day'], format='%Y%j') \n",
    "                        +\n",
    "                        pd.to_timedelta(rg28[\"hr\"], unit=\"h\") \n",
    "                        +\n",
    "                        pd.to_timedelta(rg28[\"mn\"], unit=\"min\") \n",
    "                      )"
   ]
  },
  {
   "cell_type": "code",
   "execution_count": 118,
   "id": "214c7fdf",
   "metadata": {},
   "outputs": [],
   "source": [
    "l1tdr18.set_index('datetime', inplace = True)\n",
    "l2tdr18.set_index('datetime', inplace = True)\n",
    "rg28.set_index('datetime', inplace = True)"
   ]
  },
  {
   "cell_type": "markdown",
   "id": "4aad6533",
   "metadata": {},
   "source": [
    "Its obvious **6999** represent a _no_data_ value."
   ]
  },
  {
   "cell_type": "code",
   "execution_count": 119,
   "id": "a1f686d0",
   "metadata": {},
   "outputs": [],
   "source": [
    "l1tdr18_fix = l1tdr18.replace(6999, None)\n",
    "l2tdr18_fix = l2tdr18.replace(6999, None)\n",
    "rg28_fix    = rg28.replace(6999, None)"
   ]
  },
  {
   "cell_type": "code",
   "execution_count": null,
   "id": "df85b7e5",
   "metadata": {
    "scrolled": true
   },
   "outputs": [],
   "source": [
    "#fig, (ax1, ax2) = plt.subplots(2, figsize = (10,3), sharex= True)\n",
    "#fig.suptitle('l1tdr18 - SM 5 cm')\n",
    "#ax1.plot(l1tdr18.loc[:,'SM5'].index, l1tdr18.loc[:,'SM5'])\n",
    "#ax2.plot(l2tdr18.loc[:,'SM5'].index, l2tdr18.loc[:,'SM5'])"
   ]
  },
  {
   "cell_type": "code",
   "execution_count": 120,
   "id": "ed983939",
   "metadata": {},
   "outputs": [
    {
     "data": {
      "image/png": "[encoded data removed]",
      "text/plain": [
       "<Figure size 720x360 with 3 Axes>"
      ]
     },
     "metadata": {
      "needs_background": "light"
     },
     "output_type": "display_data"
    }
   ],
   "source": [
    "fig, (ax1, ax2, ax3) = plt.subplots(3, figsize = (10,5), sharex= True)\n",
    "ax1.plot(l1tdr18_fix.loc[:,'SM5'].index, l1tdr18_fix.loc[:,'SM5'])\n",
    "ax2.plot(l2tdr18_fix.loc[:,'SM5'].index, l2tdr18_fix.loc[:,'SM5'])\n",
    "ax3.plot(rg28_fix.loc[:,'SM5'].index, rg28_fix.loc[:,'SM5'])\n",
    "\n",
    "ax1.title.set_text('SM 5cm - l1tdr18')\n",
    "ax2.title.set_text('SM 5cm - l2tdr18')\n",
    "ax3.title.set_text('SM 5cm - rg28')\n",
    "\n",
    "#https://stackoverflow.com/questions/6541123/improve-subplot-size-spacing-with-many-subplots-in-matplotlib\n",
    "plt.subplots_adjust(left=None, bottom=None, right=None, top=1.2 , wspace=None, hspace=None)\n"
   ]
  },
  {
   "cell_type": "code",
   "execution_count": 130,
   "id": "f3fc1b34",
   "metadata": {},
   "outputs": [],
   "source": [
    "sensors_df = dict({\n",
    "    'TDRL1' : l1tdr18_fix.sort_index(),\n",
    "    'TDRL2': l2tdr18_fix.sort_index(), \n",
    "    'RG28': rg28_fix.sort_index()\n",
    "})\n",
    "\n",
    "# TODO : assert sensors_coords & sensors_dict have the same keys"
   ]
  },
  {
   "cell_type": "markdown",
   "id": "9a43b41c",
   "metadata": {},
   "source": [
    "### Satellite"
   ]
  },
  {
   "cell_type": "code",
   "execution_count": 185,
   "id": "e403b048",
   "metadata": {},
   "outputs": [
    {
     "name": "stdout",
     "output_type": "stream",
     "text": [
      "2022/03/20 21:43:42 : processing file S2B2A_20181231_041_Walnut-Gulch_BOA_10.tif... \n",
      "\n",
      "2022/03/20 21:43:42 : retrieving px coords...\n",
      "2022/03/20 21:45:07 : Done\n",
      "\n",
      "2022/03/20 21:45:07 : Requesting image metadata between 2018-12-30 <-> 2019-01-01...\n",
      "2022/03/20 21:45:18 : Done\n",
      "\n",
      "2022/03/20 21:45:20 : Calculating haversine distance for 1477128 rows...\n",
      "2022/03/20 21:46:34 : Done\n",
      "\n",
      "2022/03/20 21:46:34 : Sorting 1477128 rows...\n",
      "2022/03/20 21:46:34 : Done\n",
      "\n",
      "nearest_dt: 2019-01-01 00:00:00, [None]\n"
     ]
    },
    {
     "name": "stderr",
     "output_type": "stream",
     "text": [
      "/tmp/ipykernel_5735/3035235995.py:122: SettingWithCopyWarning: \n",
      "A value is trying to be set on a copy of a slice from a DataFrame.\n",
      "Try using .loc[row_indexer,col_indexer] = value instead\n",
      "\n",
      "See the caveats in the documentation: https://pandas.pydata.org/pandas-docs/stable/user_guide/indexing.html#returning-a-view-versus-a-copy\n",
      "  df['SM5'] = val\n"
     ]
    },
    {
     "name": "stdout",
     "output_type": "stream",
     "text": [
      "2022/03/20 21:46:35 : Calculating haversine distance for 1477128 rows...\n",
      "2022/03/20 21:47:48 : Done\n",
      "\n",
      "2022/03/20 21:47:48 : Sorting 1477128 rows...\n",
      "2022/03/20 21:47:48 : Done\n",
      "\n",
      "nearest_dt: 2019-01-01 00:00:00, [None]\n",
      "2022/03/20 21:47:49 : Calculating haversine distance for 1477128 rows...\n"
     ]
    },
    {
     "name": "stderr",
     "output_type": "stream",
     "text": [
      "/tmp/ipykernel_5735/3035235995.py:122: SettingWithCopyWarning: \n",
      "A value is trying to be set on a copy of a slice from a DataFrame.\n",
      "Try using .loc[row_indexer,col_indexer] = value instead\n",
      "\n",
      "See the caveats in the documentation: https://pandas.pydata.org/pandas-docs/stable/user_guide/indexing.html#returning-a-view-versus-a-copy\n",
      "  df['SM5'] = val\n"
     ]
    },
    {
     "name": "stdout",
     "output_type": "stream",
     "text": [
      "2022/03/20 21:49:03 : Done\n",
      "\n",
      "2022/03/20 21:49:03 : Sorting 1477128 rows...\n",
      "2022/03/20 21:49:03 : Done\n",
      "\n",
      "nearest_dt: 2018-12-31 18:00:00, [None]\n",
      "2022/03/20 21:49:03 : processing file S2A2A_20181216_041_Walnut-Gulch_BOA_10.tif... \n",
      "\n"
     ]
    },
    {
     "name": "stderr",
     "output_type": "stream",
     "text": [
      "/tmp/ipykernel_5735/3035235995.py:122: SettingWithCopyWarning: \n",
      "A value is trying to be set on a copy of a slice from a DataFrame.\n",
      "Try using .loc[row_indexer,col_indexer] = value instead\n",
      "\n",
      "See the caveats in the documentation: https://pandas.pydata.org/pandas-docs/stable/user_guide/indexing.html#returning-a-view-versus-a-copy\n",
      "  df['SM5'] = val\n"
     ]
    },
    {
     "name": "stdout",
     "output_type": "stream",
     "text": [
      "2022/03/20 21:49:04 : retrieving px coords...\n",
      "2022/03/20 21:50:28 : Done\n",
      "\n",
      "2022/03/20 21:50:28 : Requesting image metadata between 2018-12-15 <-> 2018-12-17...\n",
      "2022/03/20 21:50:38 : Done\n",
      "\n",
      "2022/03/20 21:50:40 : Calculating haversine distance for 378993 rows...\n",
      "2022/03/20 21:50:59 : Done\n",
      "\n",
      "2022/03/20 21:50:59 : Sorting 378993 rows...\n",
      "2022/03/20 21:50:59 : Done\n",
      "\n",
      "nearest_dt: 2018-12-16 18:00:00, [12]\n",
      "2022/03/20 21:50:59 : Calculating haversine distance for 378993 rows...\n"
     ]
    },
    {
     "name": "stderr",
     "output_type": "stream",
     "text": [
      "/tmp/ipykernel_5735/3035235995.py:122: SettingWithCopyWarning: \n",
      "A value is trying to be set on a copy of a slice from a DataFrame.\n",
      "Try using .loc[row_indexer,col_indexer] = value instead\n",
      "\n",
      "See the caveats in the documentation: https://pandas.pydata.org/pandas-docs/stable/user_guide/indexing.html#returning-a-view-versus-a-copy\n",
      "  df['SM5'] = val\n"
     ]
    },
    {
     "name": "stdout",
     "output_type": "stream",
     "text": [
      "2022/03/20 21:51:19 : Done\n",
      "\n",
      "2022/03/20 21:51:19 : Sorting 378993 rows...\n",
      "2022/03/20 21:51:19 : Done\n",
      "\n",
      "nearest_dt: 2018-12-16 18:00:00, [11]\n",
      "2022/03/20 21:51:19 : Calculating haversine distance for 378993 rows...\n"
     ]
    },
    {
     "name": "stderr",
     "output_type": "stream",
     "text": [
      "/tmp/ipykernel_5735/3035235995.py:122: SettingWithCopyWarning: \n",
      "A value is trying to be set on a copy of a slice from a DataFrame.\n",
      "Try using .loc[row_indexer,col_indexer] = value instead\n",
      "\n",
      "See the caveats in the documentation: https://pandas.pydata.org/pandas-docs/stable/user_guide/indexing.html#returning-a-view-versus-a-copy\n",
      "  df['SM5'] = val\n"
     ]
    },
    {
     "name": "stdout",
     "output_type": "stream",
     "text": [
      "2022/03/20 21:51:39 : Done\n",
      "\n",
      "2022/03/20 21:51:39 : Sorting 378993 rows...\n",
      "2022/03/20 21:51:39 : Done\n",
      "\n",
      "nearest_dt: 2018-12-16 18:00:00, [11]\n",
      "2022/03/20 21:51:39 : processing file S2B2A_20181221_041_Walnut-Gulch_BOA_10.tif... \n",
      "\n"
     ]
    },
    {
     "name": "stderr",
     "output_type": "stream",
     "text": [
      "/tmp/ipykernel_5735/3035235995.py:122: SettingWithCopyWarning: \n",
      "A value is trying to be set on a copy of a slice from a DataFrame.\n",
      "Try using .loc[row_indexer,col_indexer] = value instead\n",
      "\n",
      "See the caveats in the documentation: https://pandas.pydata.org/pandas-docs/stable/user_guide/indexing.html#returning-a-view-versus-a-copy\n",
      "  df['SM5'] = val\n"
     ]
    },
    {
     "name": "stdout",
     "output_type": "stream",
     "text": [
      "2022/03/20 21:51:39 : retrieving px coords...\n",
      "2022/03/20 21:53:04 : Done\n",
      "\n",
      "2022/03/20 21:53:04 : Requesting image metadata between 2018-12-20 <-> 2018-12-22...\n",
      "2022/03/20 21:53:12 : Done\n",
      "\n",
      "2022/03/20 21:53:14 : Calculating haversine distance for 1262658 rows...\n",
      "2022/03/20 21:54:18 : Done\n",
      "\n",
      "2022/03/20 21:54:18 : Sorting 1262658 rows...\n",
      "2022/03/20 21:54:18 : Done\n",
      "\n",
      "nearest_dt: 2018-12-21 18:00:00, [12]\n",
      "2022/03/20 21:54:19 : Calculating haversine distance for 1262658 rows...\n"
     ]
    },
    {
     "name": "stderr",
     "output_type": "stream",
     "text": [
      "/tmp/ipykernel_5735/3035235995.py:122: SettingWithCopyWarning: \n",
      "A value is trying to be set on a copy of a slice from a DataFrame.\n",
      "Try using .loc[row_indexer,col_indexer] = value instead\n",
      "\n",
      "See the caveats in the documentation: https://pandas.pydata.org/pandas-docs/stable/user_guide/indexing.html#returning-a-view-versus-a-copy\n",
      "  df['SM5'] = val\n"
     ]
    },
    {
     "name": "stdout",
     "output_type": "stream",
     "text": [
      "2022/03/20 21:55:25 : Done\n",
      "\n",
      "2022/03/20 21:55:25 : Sorting 1262658 rows...\n",
      "2022/03/20 21:55:25 : Done\n",
      "\n",
      "nearest_dt: 2018-12-21 18:00:00, [10]\n",
      "2022/03/20 21:55:25 : Calculating haversine distance for 1262658 rows...\n"
     ]
    },
    {
     "name": "stderr",
     "output_type": "stream",
     "text": [
      "/tmp/ipykernel_5735/3035235995.py:122: SettingWithCopyWarning: \n",
      "A value is trying to be set on a copy of a slice from a DataFrame.\n",
      "Try using .loc[row_indexer,col_indexer] = value instead\n",
      "\n",
      "See the caveats in the documentation: https://pandas.pydata.org/pandas-docs/stable/user_guide/indexing.html#returning-a-view-versus-a-copy\n",
      "  df['SM5'] = val\n"
     ]
    },
    {
     "name": "stdout",
     "output_type": "stream",
     "text": [
      "2022/03/20 21:56:29 : Done\n",
      "\n",
      "2022/03/20 21:56:29 : Sorting 1262658 rows...\n",
      "2022/03/20 21:56:29 : Done\n",
      "\n",
      "nearest_dt: 2018-12-21 18:00:00, [10]\n",
      "2022/03/20 21:56:29 : processing file S2A2A_20181226_041_Walnut-Gulch_BOA_10.tif... \n",
      "\n"
     ]
    },
    {
     "name": "stderr",
     "output_type": "stream",
     "text": [
      "/tmp/ipykernel_5735/3035235995.py:122: SettingWithCopyWarning: \n",
      "A value is trying to be set on a copy of a slice from a DataFrame.\n",
      "Try using .loc[row_indexer,col_indexer] = value instead\n",
      "\n",
      "See the caveats in the documentation: https://pandas.pydata.org/pandas-docs/stable/user_guide/indexing.html#returning-a-view-versus-a-copy\n",
      "  df['SM5'] = val\n"
     ]
    },
    {
     "name": "stdout",
     "output_type": "stream",
     "text": [
      "2022/03/20 21:56:30 : retrieving px coords...\n",
      "2022/03/20 21:57:56 : Done\n",
      "\n",
      "2022/03/20 21:57:56 : Requesting image metadata between 2018-12-25 <-> 2018-12-27...\n",
      "2022/03/20 21:58:05 : Done\n",
      "\n",
      "2022/03/20 21:58:07 : Calculating haversine distance for 1242912 rows...\n",
      "2022/03/20 21:59:11 : Done\n",
      "\n",
      "2022/03/20 21:59:11 : Sorting 1242912 rows...\n",
      "2022/03/20 21:59:11 : Done\n",
      "\n",
      "nearest_dt: 2018-12-26 18:00:00, [12]\n"
     ]
    },
    {
     "name": "stderr",
     "output_type": "stream",
     "text": [
      "/tmp/ipykernel_5735/3035235995.py:122: SettingWithCopyWarning: \n",
      "A value is trying to be set on a copy of a slice from a DataFrame.\n",
      "Try using .loc[row_indexer,col_indexer] = value instead\n",
      "\n",
      "See the caveats in the documentation: https://pandas.pydata.org/pandas-docs/stable/user_guide/indexing.html#returning-a-view-versus-a-copy\n",
      "  df['SM5'] = val\n"
     ]
    },
    {
     "name": "stdout",
     "output_type": "stream",
     "text": [
      "2022/03/20 21:59:11 : Calculating haversine distance for 1242912 rows...\n",
      "2022/03/20 22:00:14 : Done\n",
      "\n",
      "2022/03/20 22:00:14 : Sorting 1242912 rows...\n",
      "2022/03/20 22:00:15 : Done\n",
      "\n",
      "nearest_dt: 2018-12-26 18:00:00, [9]\n",
      "2022/03/20 22:00:15 : Calculating haversine distance for 1242912 rows...\n"
     ]
    },
    {
     "name": "stderr",
     "output_type": "stream",
     "text": [
      "/tmp/ipykernel_5735/3035235995.py:122: SettingWithCopyWarning: \n",
      "A value is trying to be set on a copy of a slice from a DataFrame.\n",
      "Try using .loc[row_indexer,col_indexer] = value instead\n",
      "\n",
      "See the caveats in the documentation: https://pandas.pydata.org/pandas-docs/stable/user_guide/indexing.html#returning-a-view-versus-a-copy\n",
      "  df['SM5'] = val\n"
     ]
    },
    {
     "name": "stdout",
     "output_type": "stream",
     "text": [
      "2022/03/20 22:01:19 : Done\n",
      "\n",
      "2022/03/20 22:01:19 : Sorting 1242912 rows...\n",
      "2022/03/20 22:01:19 : Done\n",
      "\n",
      "nearest_dt: 2018-12-26 18:00:00, [14]\n"
     ]
    },
    {
     "name": "stderr",
     "output_type": "stream",
     "text": [
      "/tmp/ipykernel_5735/3035235995.py:122: SettingWithCopyWarning: \n",
      "A value is trying to be set on a copy of a slice from a DataFrame.\n",
      "Try using .loc[row_indexer,col_indexer] = value instead\n",
      "\n",
      "See the caveats in the documentation: https://pandas.pydata.org/pandas-docs/stable/user_guide/indexing.html#returning-a-view-versus-a-copy\n",
      "  df['SM5'] = val\n"
     ]
    }
   ],
   "source": [
    "BASE_DIR = './sen2r/out/'\n",
    "BASE_DIR_BOA = './sen2r/out/BOA_2/'\n",
    "\n",
    "boa_files = [f for f in listdir(BASE_DIR_BOA,) if isfile(join(BASE_DIR_BOA, f))]\n",
    "local_df_list = []\n",
    "inSitu_obs_dict = { key:[] for key, value in sensors_coords.items()}\n",
    "\n",
    "for file in boa_files : \n",
    "    \n",
    "    print('%s : processing file %s... \\n' % (datetime.datetime.now().strftime(\"%Y/%m/%d %H:%M:%S\"), file))\n",
    "    \n",
    "    boa_fp = BASE_DIR_BOA + file\n",
    "\n",
    "    raster_date = S2_getDate(boa_fp)\n",
    "    scl_fp = S2_getSCL(BASE_DIR, raster_date)\n",
    "    \n",
    "    boa  = rs.open(boa_fp)\n",
    "    scl  = rs.open(scl_fp)\n",
    "    r    = boa.read(3, masked = True)\n",
    "    nir  = boa.read(8, masked = True)\n",
    "    swir = boa.read(11, masked = True)\n",
    "    swir = swir / 10000 #  #SWIR2 band 12 http://sen2r.ranghetti.info/articles/outstructure.html\n",
    "    ndvi = (nir - r)/(nir + r)\n",
    "    STR  = ((1-swir)**2)/(2*swir)\n",
    "    scl  = scl.read(1, masked = True)\n",
    "\n",
    "    print('%s : retrieving px coords...' % (datetime.datetime.now().strftime(\"%Y/%m/%d %H:%M:%S\")))\n",
    "    utm_x, utm_y =  get_px_coords_from_raster(boa)\n",
    "    print('%s : Done\\n' % datetime.datetime.now().strftime(\"%Y/%m/%d %H:%M:%S\"))\n",
    "   \n",
    "    # TODO : check nubosity perc before proccess the following\n",
    "    \n",
    "    data = {\n",
    "        'datetime' : S2_get_sensing_dt(boa_fp),\n",
    "        'ndvi' : np.ndarray.flatten(ndvi[~ndvi.mask]),\n",
    "        'str'  : np.ndarray.flatten(STR[~STR.mask]),\n",
    "        'defective_px_perc' : S2_defective_px_perc(np.ndarray.flatten(scl.data)),\n",
    "        'utm_x' : utm_x, \n",
    "        'utm_y' : utm_y,\n",
    "        'fpath' : boa_fp\n",
    "    }\n",
    "    \n",
    "    local_df = pd.DataFrame(data)\n",
    "    local_df.drop(local_df[local_df.loc[:,\"ndvi\"] > 1].index, inplace=True)\n",
    "    local_df_list.append(local_df)\n",
    "    \n",
    "    # TODO: cpu intesive due to sorting 'sensor.items()' times a df w/ 4M+ rows\n",
    "    # Speedup: pre-calcualte the sortest px to each sensor before outer loop, then just query the NDVI,STR value at index\n",
    "    for sensor_name, sensor_coords in sensors_coords.items() :\n",
    "        inSitu_obs = build_inSitu_obs(df = local_df,\n",
    "                                      dest_lat_lng  = sensor_coords,\n",
    "                                      sensor_df  = sensors_df[sensor_name])\n",
    "        inSitu_obs_dict[sensor_name].append(inSitu_obs)\n",
    "        \n",
    "\n",
    "global_df = pd.concat(local_df_list) # calculate edges w/ this\n",
    "inSitu_df = pd.concat([pd.concat(values) for key,values in inSitu_obs_dict.items()])"
   ]
  },
  {
   "cell_type": "code",
   "execution_count": 152,
   "id": "d34e5884",
   "metadata": {},
   "outputs": [
    {
     "data": {
      "text/html": [
       "<div>\n",
       "<style scoped>\n",
       "    .dataframe tbody tr th:only-of-type {\n",
       "        vertical-align: middle;\n",
       "    }\n",
       "\n",
       "    .dataframe tbody tr th {\n",
       "        vertical-align: top;\n",
       "    }\n",
       "\n",
       "    .dataframe thead th {\n",
       "        text-align: right;\n",
       "    }\n",
       "</style>\n",
       "<table border=\"1\" class=\"dataframe\">\n",
       "  <thead>\n",
       "    <tr style=\"text-align: right;\">\n",
       "      <th></th>\n",
       "      <th>datetime</th>\n",
       "      <th>ndvi</th>\n",
       "      <th>str</th>\n",
       "      <th>defective_px_perc</th>\n",
       "      <th>utm_x</th>\n",
       "      <th>utm_y</th>\n",
       "      <th>fpath</th>\n",
       "      <th>dist</th>\n",
       "    </tr>\n",
       "  </thead>\n",
       "  <tbody>\n",
       "    <tr>\n",
       "      <th>815140</th>\n",
       "      <td>2018-12-21 18:07:49</td>\n",
       "      <td>0.000693</td>\n",
       "      <td>0.724695</td>\n",
       "      <td>0.0</td>\n",
       "      <td>590625.0</td>\n",
       "      <td>3509995.0</td>\n",
       "      <td>./sen2r/out/BOA_2/S2B2A_20181221_041_Walnut-Gu...</td>\n",
       "      <td>5.113909</td>\n",
       "    </tr>\n",
       "    <tr>\n",
       "      <th>817136</th>\n",
       "      <td>2018-12-21 18:07:49</td>\n",
       "      <td>0.005196</td>\n",
       "      <td>0.719876</td>\n",
       "      <td>0.0</td>\n",
       "      <td>590615.0</td>\n",
       "      <td>3509985.0</td>\n",
       "      <td>./sen2r/out/BOA_2/S2B2A_20181221_041_Walnut-Gu...</td>\n",
       "      <td>10.289143</td>\n",
       "    </tr>\n",
       "    <tr>\n",
       "      <th>815141</th>\n",
       "      <td>2018-12-21 18:07:49</td>\n",
       "      <td>0.000695</td>\n",
       "      <td>0.724695</td>\n",
       "      <td>0.0</td>\n",
       "      <td>590635.0</td>\n",
       "      <td>3509995.0</td>\n",
       "      <td>./sen2r/out/BOA_2/S2B2A_20181221_041_Walnut-Gu...</td>\n",
       "      <td>12.071676</td>\n",
       "    </tr>\n",
       "    <tr>\n",
       "      <th>819132</th>\n",
       "      <td>2018-12-21 18:07:49</td>\n",
       "      <td>0.000348</td>\n",
       "      <td>0.716828</td>\n",
       "      <td>0.0</td>\n",
       "      <td>590625.0</td>\n",
       "      <td>3509975.0</td>\n",
       "      <td>./sen2r/out/BOA_2/S2B2A_20181221_041_Walnut-Gu...</td>\n",
       "      <td>15.080011</td>\n",
       "    </tr>\n",
       "    <tr>\n",
       "      <th>819131</th>\n",
       "      <td>2018-12-21 18:07:49</td>\n",
       "      <td>0.005917</td>\n",
       "      <td>0.704358</td>\n",
       "      <td>0.0</td>\n",
       "      <td>590615.0</td>\n",
       "      <td>3509975.0</td>\n",
       "      <td>./sen2r/out/BOA_2/S2B2A_20181221_041_Walnut-Gu...</td>\n",
       "      <td>17.524335</td>\n",
       "    </tr>\n",
       "    <tr>\n",
       "      <th>...</th>\n",
       "      <td>...</td>\n",
       "      <td>...</td>\n",
       "      <td>...</td>\n",
       "      <td>...</td>\n",
       "      <td>...</td>\n",
       "      <td>...</td>\n",
       "      <td>...</td>\n",
       "      <td>...</td>\n",
       "    </tr>\n",
       "    <tr>\n",
       "      <th>9323</th>\n",
       "      <td>2018-12-21 18:07:49</td>\n",
       "      <td>0.051861</td>\n",
       "      <td>1.639050</td>\n",
       "      <td>0.0</td>\n",
       "      <td>606215.0</td>\n",
       "      <td>3515195.0</td>\n",
       "      <td>./sen2r/out/BOA_2/S2B2A_20181221_041_Walnut-Gu...</td>\n",
       "      <td>16415.481253</td>\n",
       "    </tr>\n",
       "    <tr>\n",
       "      <th>10398</th>\n",
       "      <td>2018-12-21 18:07:49</td>\n",
       "      <td>0.047968</td>\n",
       "      <td>1.666673</td>\n",
       "      <td>0.0</td>\n",
       "      <td>606235.0</td>\n",
       "      <td>3515145.0</td>\n",
       "      <td>./sen2r/out/BOA_2/S2B2A_20181221_041_Walnut-Gu...</td>\n",
       "      <td>16418.549471</td>\n",
       "    </tr>\n",
       "    <tr>\n",
       "      <th>9766</th>\n",
       "      <td>2018-12-21 18:07:49</td>\n",
       "      <td>0.051793</td>\n",
       "      <td>1.656554</td>\n",
       "      <td>0.0</td>\n",
       "      <td>606225.0</td>\n",
       "      <td>3515175.0</td>\n",
       "      <td>./sen2r/out/BOA_2/S2B2A_20181221_041_Walnut-Gu...</td>\n",
       "      <td>16418.580902</td>\n",
       "    </tr>\n",
       "    <tr>\n",
       "      <th>10194</th>\n",
       "      <td>2018-12-21 18:07:49</td>\n",
       "      <td>0.041526</td>\n",
       "      <td>1.666673</td>\n",
       "      <td>0.0</td>\n",
       "      <td>606235.0</td>\n",
       "      <td>3515155.0</td>\n",
       "      <td>./sen2r/out/BOA_2/S2B2A_20181221_041_Walnut-Gu...</td>\n",
       "      <td>16421.710546</td>\n",
       "    </tr>\n",
       "    <tr>\n",
       "      <th>9984</th>\n",
       "      <td>2018-12-21 18:07:49</td>\n",
       "      <td>0.050579</td>\n",
       "      <td>1.656554</td>\n",
       "      <td>0.0</td>\n",
       "      <td>606235.0</td>\n",
       "      <td>3515165.0</td>\n",
       "      <td>./sen2r/out/BOA_2/S2B2A_20181221_041_Walnut-Gu...</td>\n",
       "      <td>16424.877138</td>\n",
       "    </tr>\n",
       "  </tbody>\n",
       "</table>\n",
       "<p>1262658 rows × 8 columns</p>\n",
       "</div>"
      ],
      "text/plain": [
       "                  datetime      ndvi       str  defective_px_perc     utm_x  \\\n",
       "815140 2018-12-21 18:07:49  0.000693  0.724695                0.0  590625.0   \n",
       "817136 2018-12-21 18:07:49  0.005196  0.719876                0.0  590615.0   \n",
       "815141 2018-12-21 18:07:49  0.000695  0.724695                0.0  590635.0   \n",
       "819132 2018-12-21 18:07:49  0.000348  0.716828                0.0  590625.0   \n",
       "819131 2018-12-21 18:07:49  0.005917  0.704358                0.0  590615.0   \n",
       "...                    ...       ...       ...                ...       ...   \n",
       "9323   2018-12-21 18:07:49  0.051861  1.639050                0.0  606215.0   \n",
       "10398  2018-12-21 18:07:49  0.047968  1.666673                0.0  606235.0   \n",
       "9766   2018-12-21 18:07:49  0.051793  1.656554                0.0  606225.0   \n",
       "10194  2018-12-21 18:07:49  0.041526  1.666673                0.0  606235.0   \n",
       "9984   2018-12-21 18:07:49  0.050579  1.656554                0.0  606235.0   \n",
       "\n",
       "            utm_y                                              fpath  \\\n",
       "815140  3509995.0  ./sen2r/out/BOA_2/S2B2A_20181221_041_Walnut-Gu...   \n",
       "817136  3509985.0  ./sen2r/out/BOA_2/S2B2A_20181221_041_Walnut-Gu...   \n",
       "815141  3509995.0  ./sen2r/out/BOA_2/S2B2A_20181221_041_Walnut-Gu...   \n",
       "819132  3509975.0  ./sen2r/out/BOA_2/S2B2A_20181221_041_Walnut-Gu...   \n",
       "819131  3509975.0  ./sen2r/out/BOA_2/S2B2A_20181221_041_Walnut-Gu...   \n",
       "...           ...                                                ...   \n",
       "9323    3515195.0  ./sen2r/out/BOA_2/S2B2A_20181221_041_Walnut-Gu...   \n",
       "10398   3515145.0  ./sen2r/out/BOA_2/S2B2A_20181221_041_Walnut-Gu...   \n",
       "9766    3515175.0  ./sen2r/out/BOA_2/S2B2A_20181221_041_Walnut-Gu...   \n",
       "10194   3515155.0  ./sen2r/out/BOA_2/S2B2A_20181221_041_Walnut-Gu...   \n",
       "9984    3515165.0  ./sen2r/out/BOA_2/S2B2A_20181221_041_Walnut-Gu...   \n",
       "\n",
       "                dist  \n",
       "815140      5.113909  \n",
       "817136     10.289143  \n",
       "815141     12.071676  \n",
       "819132     15.080011  \n",
       "819131     17.524335  \n",
       "...              ...  \n",
       "9323    16415.481253  \n",
       "10398   16418.549471  \n",
       "9766    16418.580902  \n",
       "10194   16421.710546  \n",
       "9984    16424.877138  \n",
       "\n",
       "[1262658 rows x 8 columns]"
      ]
     },
     "execution_count": 152,
     "metadata": {},
     "output_type": "execute_result"
    }
   ],
   "source": [
    "global_df"
   ]
  },
  {
   "cell_type": "code",
   "execution_count": 186,
   "id": "8aa46ed4",
   "metadata": {},
   "outputs": [
    {
     "data": {
      "text/html": [
       "<div>\n",
       "<style scoped>\n",
       "    .dataframe tbody tr th:only-of-type {\n",
       "        vertical-align: middle;\n",
       "    }\n",
       "\n",
       "    .dataframe tbody tr th {\n",
       "        vertical-align: top;\n",
       "    }\n",
       "\n",
       "    .dataframe thead th {\n",
       "        text-align: right;\n",
       "    }\n",
       "</style>\n",
       "<table border=\"1\" class=\"dataframe\">\n",
       "  <thead>\n",
       "    <tr style=\"text-align: right;\">\n",
       "      <th></th>\n",
       "      <th>ndvi</th>\n",
       "      <th>str</th>\n",
       "      <th>defective_px_perc</th>\n",
       "      <th>utm_x</th>\n",
       "      <th>utm_y</th>\n",
       "      <th>fpath</th>\n",
       "      <th>dist</th>\n",
       "      <th>SM5</th>\n",
       "    </tr>\n",
       "    <tr>\n",
       "      <th>datetime</th>\n",
       "      <th></th>\n",
       "      <th></th>\n",
       "      <th></th>\n",
       "      <th></th>\n",
       "      <th></th>\n",
       "      <th></th>\n",
       "      <th></th>\n",
       "      <th></th>\n",
       "    </tr>\n",
       "  </thead>\n",
       "  <tbody>\n",
       "    <tr>\n",
       "      <th>2018-12-31 18:07:39</th>\n",
       "      <td>0.353846</td>\n",
       "      <td>1.147791</td>\n",
       "      <td>0.448279</td>\n",
       "      <td>589565.0</td>\n",
       "      <td>3512285.0</td>\n",
       "      <td>./sen2r/out/BOA_2/S2B2A_20181231_041_Walnut-Gu...</td>\n",
       "      <td>5.398217</td>\n",
       "      <td>None</td>\n",
       "    </tr>\n",
       "    <tr>\n",
       "      <th>2018-12-16 18:07:41</th>\n",
       "      <td>0.035757</td>\n",
       "      <td>3.633355</td>\n",
       "      <td>0.000311</td>\n",
       "      <td>589565.0</td>\n",
       "      <td>3512285.0</td>\n",
       "      <td>./sen2r/out/BOA_2/S2A2A_20181216_041_Walnut-Gu...</td>\n",
       "      <td>5.398217</td>\n",
       "      <td>12</td>\n",
       "    </tr>\n",
       "    <tr>\n",
       "      <th>2018-12-21 18:07:49</th>\n",
       "      <td>0.001087</td>\n",
       "      <td>0.732662</td>\n",
       "      <td>0.000000</td>\n",
       "      <td>589565.0</td>\n",
       "      <td>3512285.0</td>\n",
       "      <td>./sen2r/out/BOA_2/S2B2A_20181221_041_Walnut-Gu...</td>\n",
       "      <td>5.398217</td>\n",
       "      <td>12</td>\n",
       "    </tr>\n",
       "    <tr>\n",
       "      <th>2018-12-26 18:07:41</th>\n",
       "      <td>0.038696</td>\n",
       "      <td>0.638298</td>\n",
       "      <td>0.055532</td>\n",
       "      <td>589565.0</td>\n",
       "      <td>3512285.0</td>\n",
       "      <td>./sen2r/out/BOA_2/S2A2A_20181226_041_Walnut-Gu...</td>\n",
       "      <td>5.398217</td>\n",
       "      <td>12</td>\n",
       "    </tr>\n",
       "    <tr>\n",
       "      <th>2018-12-31 18:07:39</th>\n",
       "      <td>0.289164</td>\n",
       "      <td>1.367118</td>\n",
       "      <td>0.448279</td>\n",
       "      <td>589795.0</td>\n",
       "      <td>3512425.0</td>\n",
       "      <td>./sen2r/out/BOA_2/S2B2A_20181231_041_Walnut-Gu...</td>\n",
       "      <td>5.398212</td>\n",
       "      <td>None</td>\n",
       "    </tr>\n",
       "    <tr>\n",
       "      <th>2018-12-16 18:07:41</th>\n",
       "      <td>0.026076</td>\n",
       "      <td>3.165990</td>\n",
       "      <td>0.000311</td>\n",
       "      <td>589795.0</td>\n",
       "      <td>3512425.0</td>\n",
       "      <td>./sen2r/out/BOA_2/S2A2A_20181216_041_Walnut-Gu...</td>\n",
       "      <td>5.398212</td>\n",
       "      <td>11</td>\n",
       "    </tr>\n",
       "    <tr>\n",
       "      <th>2018-12-21 18:07:49</th>\n",
       "      <td>0.003213</td>\n",
       "      <td>0.750730</td>\n",
       "      <td>0.000000</td>\n",
       "      <td>589795.0</td>\n",
       "      <td>3512415.0</td>\n",
       "      <td>./sen2r/out/BOA_2/S2B2A_20181221_041_Walnut-Gu...</td>\n",
       "      <td>5.398527</td>\n",
       "      <td>10</td>\n",
       "    </tr>\n",
       "    <tr>\n",
       "      <th>2018-12-26 18:07:41</th>\n",
       "      <td>0.065718</td>\n",
       "      <td>1.474096</td>\n",
       "      <td>0.055532</td>\n",
       "      <td>589795.0</td>\n",
       "      <td>3512425.0</td>\n",
       "      <td>./sen2r/out/BOA_2/S2A2A_20181226_041_Walnut-Gu...</td>\n",
       "      <td>5.398212</td>\n",
       "      <td>9</td>\n",
       "    </tr>\n",
       "    <tr>\n",
       "      <th>2018-12-31 18:07:39</th>\n",
       "      <td>0.232482</td>\n",
       "      <td>1.745413</td>\n",
       "      <td>0.448279</td>\n",
       "      <td>590625.0</td>\n",
       "      <td>3509995.0</td>\n",
       "      <td>./sen2r/out/BOA_2/S2B2A_20181231_041_Walnut-Gu...</td>\n",
       "      <td>5.113909</td>\n",
       "      <td>None</td>\n",
       "    </tr>\n",
       "    <tr>\n",
       "      <th>2018-12-16 18:07:41</th>\n",
       "      <td>0.012424</td>\n",
       "      <td>1.701474</td>\n",
       "      <td>0.000311</td>\n",
       "      <td>590625.0</td>\n",
       "      <td>3509995.0</td>\n",
       "      <td>./sen2r/out/BOA_2/S2A2A_20181216_041_Walnut-Gu...</td>\n",
       "      <td>5.113909</td>\n",
       "      <td>11</td>\n",
       "    </tr>\n",
       "    <tr>\n",
       "      <th>2018-12-21 18:07:49</th>\n",
       "      <td>0.000693</td>\n",
       "      <td>0.724695</td>\n",
       "      <td>0.000000</td>\n",
       "      <td>590625.0</td>\n",
       "      <td>3509995.0</td>\n",
       "      <td>./sen2r/out/BOA_2/S2B2A_20181221_041_Walnut-Gu...</td>\n",
       "      <td>5.113909</td>\n",
       "      <td>10</td>\n",
       "    </tr>\n",
       "    <tr>\n",
       "      <th>2018-12-26 18:07:41</th>\n",
       "      <td>0.113336</td>\n",
       "      <td>0.836149</td>\n",
       "      <td>0.055532</td>\n",
       "      <td>590625.0</td>\n",
       "      <td>3509995.0</td>\n",
       "      <td>./sen2r/out/BOA_2/S2A2A_20181226_041_Walnut-Gu...</td>\n",
       "      <td>5.113909</td>\n",
       "      <td>14</td>\n",
       "    </tr>\n",
       "  </tbody>\n",
       "</table>\n",
       "</div>"
      ],
      "text/plain": [
       "                         ndvi       str  defective_px_perc     utm_x  \\\n",
       "datetime                                                               \n",
       "2018-12-31 18:07:39  0.353846  1.147791           0.448279  589565.0   \n",
       "2018-12-16 18:07:41  0.035757  3.633355           0.000311  589565.0   \n",
       "2018-12-21 18:07:49  0.001087  0.732662           0.000000  589565.0   \n",
       "2018-12-26 18:07:41  0.038696  0.638298           0.055532  589565.0   \n",
       "2018-12-31 18:07:39  0.289164  1.367118           0.448279  589795.0   \n",
       "2018-12-16 18:07:41  0.026076  3.165990           0.000311  589795.0   \n",
       "2018-12-21 18:07:49  0.003213  0.750730           0.000000  589795.0   \n",
       "2018-12-26 18:07:41  0.065718  1.474096           0.055532  589795.0   \n",
       "2018-12-31 18:07:39  0.232482  1.745413           0.448279  590625.0   \n",
       "2018-12-16 18:07:41  0.012424  1.701474           0.000311  590625.0   \n",
       "2018-12-21 18:07:49  0.000693  0.724695           0.000000  590625.0   \n",
       "2018-12-26 18:07:41  0.113336  0.836149           0.055532  590625.0   \n",
       "\n",
       "                         utm_y  \\\n",
       "datetime                         \n",
       "2018-12-31 18:07:39  3512285.0   \n",
       "2018-12-16 18:07:41  3512285.0   \n",
       "2018-12-21 18:07:49  3512285.0   \n",
       "2018-12-26 18:07:41  3512285.0   \n",
       "2018-12-31 18:07:39  3512425.0   \n",
       "2018-12-16 18:07:41  3512425.0   \n",
       "2018-12-21 18:07:49  3512415.0   \n",
       "2018-12-26 18:07:41  3512425.0   \n",
       "2018-12-31 18:07:39  3509995.0   \n",
       "2018-12-16 18:07:41  3509995.0   \n",
       "2018-12-21 18:07:49  3509995.0   \n",
       "2018-12-26 18:07:41  3509995.0   \n",
       "\n",
       "                                                                 fpath  \\\n",
       "datetime                                                                 \n",
       "2018-12-31 18:07:39  ./sen2r/out/BOA_2/S2B2A_20181231_041_Walnut-Gu...   \n",
       "2018-12-16 18:07:41  ./sen2r/out/BOA_2/S2A2A_20181216_041_Walnut-Gu...   \n",
       "2018-12-21 18:07:49  ./sen2r/out/BOA_2/S2B2A_20181221_041_Walnut-Gu...   \n",
       "2018-12-26 18:07:41  ./sen2r/out/BOA_2/S2A2A_20181226_041_Walnut-Gu...   \n",
       "2018-12-31 18:07:39  ./sen2r/out/BOA_2/S2B2A_20181231_041_Walnut-Gu...   \n",
       "2018-12-16 18:07:41  ./sen2r/out/BOA_2/S2A2A_20181216_041_Walnut-Gu...   \n",
       "2018-12-21 18:07:49  ./sen2r/out/BOA_2/S2B2A_20181221_041_Walnut-Gu...   \n",
       "2018-12-26 18:07:41  ./sen2r/out/BOA_2/S2A2A_20181226_041_Walnut-Gu...   \n",
       "2018-12-31 18:07:39  ./sen2r/out/BOA_2/S2B2A_20181231_041_Walnut-Gu...   \n",
       "2018-12-16 18:07:41  ./sen2r/out/BOA_2/S2A2A_20181216_041_Walnut-Gu...   \n",
       "2018-12-21 18:07:49  ./sen2r/out/BOA_2/S2B2A_20181221_041_Walnut-Gu...   \n",
       "2018-12-26 18:07:41  ./sen2r/out/BOA_2/S2A2A_20181226_041_Walnut-Gu...   \n",
       "\n",
       "                         dist   SM5  \n",
       "datetime                             \n",
       "2018-12-31 18:07:39  5.398217  None  \n",
       "2018-12-16 18:07:41  5.398217    12  \n",
       "2018-12-21 18:07:49  5.398217    12  \n",
       "2018-12-26 18:07:41  5.398217    12  \n",
       "2018-12-31 18:07:39  5.398212  None  \n",
       "2018-12-16 18:07:41  5.398212    11  \n",
       "2018-12-21 18:07:49  5.398527    10  \n",
       "2018-12-26 18:07:41  5.398212     9  \n",
       "2018-12-31 18:07:39  5.113909  None  \n",
       "2018-12-16 18:07:41  5.113909    11  \n",
       "2018-12-21 18:07:49  5.113909    10  \n",
       "2018-12-26 18:07:41  5.113909    14  "
      ]
     },
     "execution_count": 186,
     "metadata": {},
     "output_type": "execute_result"
    }
   ],
   "source": [
    "inSitu_df"
   ]
  },
  {
   "cell_type": "code",
   "execution_count": null,
   "id": "a59e1a0d",
   "metadata": {},
   "outputs": [],
   "source": [
    "print(sensors_df['TDRL1'].loc['2018-12-21 18:00:00','SM5'])\n",
    "print(sensors_df['TDRL2'].loc['2018-12-21 18:00:00','SM5'])\n",
    "print(sensors_df['RG28'].loc['2018-12-21 18:00:00','SM5'])"
   ]
  },
  {
   "cell_type": "code",
   "execution_count": 178,
   "id": "65de00b1",
   "metadata": {},
   "outputs": [
    {
     "data": {
      "text/plain": [
       "array([12], dtype=object)"
      ]
     },
     "execution_count": 178,
     "metadata": {},
     "output_type": "execute_result"
    }
   ],
   "source": [
    "sensors_df['TDRL1'].loc[sensors_df['TDRL1'].index == '2018-12-21 18:00:00', 'SM5'].values"
   ]
  },
  {
   "cell_type": "code",
   "execution_count": 187,
   "id": "25d3f8df",
   "metadata": {},
   "outputs": [
    {
     "data": {
      "image/png": "[encoded data removed]",
      "text/plain": [
       "<Figure size 432x288 with 1 Axes>"
      ]
     },
     "metadata": {
      "needs_background": "light"
     },
     "output_type": "display_data"
    }
   ],
   "source": [
    "# TODO contour plot lines needed for clarity\n",
    "plt.scatter(global_df.loc[:,'ndvi'], global_df.loc[:,'str'])\n",
    "plt.scatter(inSitu_df.loc[:,'ndvi'], inSitu_df.loc[:,'str'], label = 'inSitu')\n",
    "plt.legend()\n",
    "plt.show()"
   ]
  },
  {
   "cell_type": "code",
   "execution_count": 119,
   "id": "84f0aedd",
   "metadata": {},
   "outputs": [
    {
     "data": {
      "text/html": [
       "<div>\n",
       "<style scoped>\n",
       "    .dataframe tbody tr th:only-of-type {\n",
       "        vertical-align: middle;\n",
       "    }\n",
       "\n",
       "    .dataframe tbody tr th {\n",
       "        vertical-align: top;\n",
       "    }\n",
       "\n",
       "    .dataframe thead th {\n",
       "        text-align: right;\n",
       "    }\n",
       "</style>\n",
       "<table border=\"1\" class=\"dataframe\">\n",
       "  <thead>\n",
       "    <tr style=\"text-align: right;\">\n",
       "      <th></th>\n",
       "      <th>ndvi</th>\n",
       "      <th>str</th>\n",
       "      <th>defective_px_perc</th>\n",
       "      <th>utm_x</th>\n",
       "      <th>utm_y</th>\n",
       "      <th>dist</th>\n",
       "    </tr>\n",
       "  </thead>\n",
       "  <tbody>\n",
       "    <tr>\n",
       "      <th>count</th>\n",
       "      <td>1.856121e+06</td>\n",
       "      <td>1.856121e+06</td>\n",
       "      <td>1.856121e+06</td>\n",
       "      <td>1.856121e+06</td>\n",
       "      <td>1.856121e+06</td>\n",
       "      <td>1.856121e+06</td>\n",
       "    </tr>\n",
       "    <tr>\n",
       "      <th>mean</th>\n",
       "      <td>2.770703e-01</td>\n",
       "      <td>1.591099e+00</td>\n",
       "      <td>3.568100e-01</td>\n",
       "      <td>5.923085e+05</td>\n",
       "      <td>3.509764e+06</td>\n",
       "      <td>5.674429e+03</td>\n",
       "    </tr>\n",
       "    <tr>\n",
       "      <th>std</th>\n",
       "      <td>1.369398e-01</td>\n",
       "      <td>6.136650e-01</td>\n",
       "      <td>1.805782e-01</td>\n",
       "      <td>5.506090e+03</td>\n",
       "      <td>2.636512e+03</td>\n",
       "      <td>2.808037e+03</td>\n",
       "    </tr>\n",
       "    <tr>\n",
       "      <th>min</th>\n",
       "      <td>0.000000e+00</td>\n",
       "      <td>4.898551e-03</td>\n",
       "      <td>3.107913e-04</td>\n",
       "      <td>5.801950e+05</td>\n",
       "      <td>3.503595e+06</td>\n",
       "      <td>5.113909e+00</td>\n",
       "    </tr>\n",
       "    <tr>\n",
       "      <th>25%</th>\n",
       "      <td>2.585139e-01</td>\n",
       "      <td>1.307895e+00</td>\n",
       "      <td>4.482785e-01</td>\n",
       "      <td>5.881250e+05</td>\n",
       "      <td>3.507785e+06</td>\n",
       "      <td>3.670045e+03</td>\n",
       "    </tr>\n",
       "    <tr>\n",
       "      <th>50%</th>\n",
       "      <td>3.166477e-01</td>\n",
       "      <td>1.549531e+00</td>\n",
       "      <td>4.482785e-01</td>\n",
       "      <td>5.925850e+05</td>\n",
       "      <td>3.509975e+06</td>\n",
       "      <td>5.351019e+03</td>\n",
       "    </tr>\n",
       "    <tr>\n",
       "      <th>75%</th>\n",
       "      <td>3.608247e-01</td>\n",
       "      <td>1.806541e+00</td>\n",
       "      <td>4.482785e-01</td>\n",
       "      <td>5.961850e+05</td>\n",
       "      <td>3.511825e+06</td>\n",
       "      <td>7.305560e+03</td>\n",
       "    </tr>\n",
       "    <tr>\n",
       "      <th>max</th>\n",
       "      <td>9.982502e-01</td>\n",
       "      <td>2.194668e+01</td>\n",
       "      <td>4.482785e-01</td>\n",
       "      <td>6.062350e+05</td>\n",
       "      <td>3.515705e+06</td>\n",
       "      <td>1.642488e+04</td>\n",
       "    </tr>\n",
       "  </tbody>\n",
       "</table>\n",
       "</div>"
      ],
      "text/plain": [
       "               ndvi           str  defective_px_perc         utm_x  \\\n",
       "count  1.856121e+06  1.856121e+06       1.856121e+06  1.856121e+06   \n",
       "mean   2.770703e-01  1.591099e+00       3.568100e-01  5.923085e+05   \n",
       "std    1.369398e-01  6.136650e-01       1.805782e-01  5.506090e+03   \n",
       "min    0.000000e+00  4.898551e-03       3.107913e-04  5.801950e+05   \n",
       "25%    2.585139e-01  1.307895e+00       4.482785e-01  5.881250e+05   \n",
       "50%    3.166477e-01  1.549531e+00       4.482785e-01  5.925850e+05   \n",
       "75%    3.608247e-01  1.806541e+00       4.482785e-01  5.961850e+05   \n",
       "max    9.982502e-01  2.194668e+01       4.482785e-01  6.062350e+05   \n",
       "\n",
       "              utm_y          dist  \n",
       "count  1.856121e+06  1.856121e+06  \n",
       "mean   3.509764e+06  5.674429e+03  \n",
       "std    2.636512e+03  2.808037e+03  \n",
       "min    3.503595e+06  5.113909e+00  \n",
       "25%    3.507785e+06  3.670045e+03  \n",
       "50%    3.509975e+06  5.351019e+03  \n",
       "75%    3.511825e+06  7.305560e+03  \n",
       "max    3.515705e+06  1.642488e+04  "
      ]
     },
     "execution_count": 119,
     "metadata": {},
     "output_type": "execute_result"
    }
   ],
   "source": [
    "global_df.describe()"
   ]
  },
  {
   "cell_type": "code",
   "execution_count": 107,
   "id": "7d102c3c",
   "metadata": {},
   "outputs": [
    {
     "data": {
      "text/html": [
       "<div>\n",
       "<style scoped>\n",
       "    .dataframe tbody tr th:only-of-type {\n",
       "        vertical-align: middle;\n",
       "    }\n",
       "\n",
       "    .dataframe tbody tr th {\n",
       "        vertical-align: top;\n",
       "    }\n",
       "\n",
       "    .dataframe thead th {\n",
       "        text-align: right;\n",
       "    }\n",
       "</style>\n",
       "<table border=\"1\" class=\"dataframe\">\n",
       "  <thead>\n",
       "    <tr style=\"text-align: right;\">\n",
       "      <th></th>\n",
       "      <th>datetime</th>\n",
       "      <th>ndvi</th>\n",
       "      <th>str</th>\n",
       "      <th>defective_px_perc</th>\n",
       "      <th>utm_x</th>\n",
       "      <th>utm_y</th>\n",
       "      <th>fpath</th>\n",
       "      <th>dist</th>\n",
       "    </tr>\n",
       "  </thead>\n",
       "  <tbody>\n",
       "    <tr>\n",
       "      <th>330677</th>\n",
       "      <td>2018-12-16 18:07:41</td>\n",
       "      <td>0.035757</td>\n",
       "      <td>3.633355</td>\n",
       "      <td>0.000311</td>\n",
       "      <td>589565.0</td>\n",
       "      <td>3512285.0</td>\n",
       "      <td>./sen2r/out/BOA_2/S2A2A_20181216_041_Walnut-Gu...</td>\n",
       "      <td>5.398217</td>\n",
       "    </tr>\n",
       "    <tr>\n",
       "      <th>330677</th>\n",
       "      <td>2018-12-16 18:07:41</td>\n",
       "      <td>0.035757</td>\n",
       "      <td>3.633355</td>\n",
       "      <td>0.000311</td>\n",
       "      <td>589565.0</td>\n",
       "      <td>3512285.0</td>\n",
       "      <td>./sen2r/out/BOA_2/S2A2A_20181216_041_Walnut-Gu...</td>\n",
       "      <td>5.398217</td>\n",
       "    </tr>\n",
       "    <tr>\n",
       "      <th>301677</th>\n",
       "      <td>2018-12-16 18:07:41</td>\n",
       "      <td>0.026076</td>\n",
       "      <td>3.165990</td>\n",
       "      <td>0.000311</td>\n",
       "      <td>589795.0</td>\n",
       "      <td>3512425.0</td>\n",
       "      <td>./sen2r/out/BOA_2/S2A2A_20181216_041_Walnut-Gu...</td>\n",
       "      <td>5.398212</td>\n",
       "    </tr>\n",
       "    <tr>\n",
       "      <th>301677</th>\n",
       "      <td>2018-12-16 18:07:41</td>\n",
       "      <td>0.026076</td>\n",
       "      <td>3.165990</td>\n",
       "      <td>0.000311</td>\n",
       "      <td>589795.0</td>\n",
       "      <td>3512425.0</td>\n",
       "      <td>./sen2r/out/BOA_2/S2A2A_20181216_041_Walnut-Gu...</td>\n",
       "      <td>5.398212</td>\n",
       "    </tr>\n",
       "    <tr>\n",
       "      <th>815140</th>\n",
       "      <td>2018-12-16 18:07:41</td>\n",
       "      <td>0.012424</td>\n",
       "      <td>1.701474</td>\n",
       "      <td>0.000311</td>\n",
       "      <td>590625.0</td>\n",
       "      <td>3509995.0</td>\n",
       "      <td>./sen2r/out/BOA_2/S2A2A_20181216_041_Walnut-Gu...</td>\n",
       "      <td>5.113909</td>\n",
       "    </tr>\n",
       "    <tr>\n",
       "      <th>815140</th>\n",
       "      <td>2018-12-16 18:07:41</td>\n",
       "      <td>0.012424</td>\n",
       "      <td>1.701474</td>\n",
       "      <td>0.000311</td>\n",
       "      <td>590625.0</td>\n",
       "      <td>3509995.0</td>\n",
       "      <td>./sen2r/out/BOA_2/S2A2A_20181216_041_Walnut-Gu...</td>\n",
       "      <td>5.113909</td>\n",
       "    </tr>\n",
       "  </tbody>\n",
       "</table>\n",
       "</div>"
      ],
      "text/plain": [
       "                  datetime      ndvi       str  defective_px_perc     utm_x  \\\n",
       "330677 2018-12-16 18:07:41  0.035757  3.633355           0.000311  589565.0   \n",
       "330677 2018-12-16 18:07:41  0.035757  3.633355           0.000311  589565.0   \n",
       "301677 2018-12-16 18:07:41  0.026076  3.165990           0.000311  589795.0   \n",
       "301677 2018-12-16 18:07:41  0.026076  3.165990           0.000311  589795.0   \n",
       "815140 2018-12-16 18:07:41  0.012424  1.701474           0.000311  590625.0   \n",
       "815140 2018-12-16 18:07:41  0.012424  1.701474           0.000311  590625.0   \n",
       "\n",
       "            utm_y                                              fpath      dist  \n",
       "330677  3512285.0  ./sen2r/out/BOA_2/S2A2A_20181216_041_Walnut-Gu...  5.398217  \n",
       "330677  3512285.0  ./sen2r/out/BOA_2/S2A2A_20181216_041_Walnut-Gu...  5.398217  \n",
       "301677  3512425.0  ./sen2r/out/BOA_2/S2A2A_20181216_041_Walnut-Gu...  5.398212  \n",
       "301677  3512425.0  ./sen2r/out/BOA_2/S2A2A_20181216_041_Walnut-Gu...  5.398212  \n",
       "815140  3509995.0  ./sen2r/out/BOA_2/S2A2A_20181216_041_Walnut-Gu...  5.113909  \n",
       "815140  3509995.0  ./sen2r/out/BOA_2/S2A2A_20181216_041_Walnut-Gu...  5.113909  "
      ]
     },
     "execution_count": 107,
     "metadata": {},
     "output_type": "execute_result"
    }
   ],
   "source": [
    "inSitu_df"
   ]
  },
  {
   "cell_type": "code",
   "execution_count": 120,
   "id": "a8df7218",
   "metadata": {},
   "outputs": [
    {
     "data": {
      "text/plain": [
       "<matplotlib.collections.PathCollection at 0x7f2887fe1af0>"
      ]
     },
     "execution_count": 120,
     "metadata": {},
     "output_type": "execute_result"
    },
    {
     "data": {
      "image/png": "[encoded data removed]",
      "text/plain": [
       "<Figure size 432x288 with 1 Axes>"
      ]
     },
     "metadata": {
      "needs_background": "light"
     },
     "output_type": "display_data"
    }
   ],
   "source": [
    "plt.scatter(inSitu_df.loc[:,'ndvi'], inSitu_df.loc[:,'str'])"
   ]
  },
  {
   "cell_type": "markdown",
   "id": "13012368",
   "metadata": {},
   "source": [
    "# BASURA"
   ]
  },
  {
   "cell_type": "code",
   "execution_count": null,
   "id": "c9e16518",
   "metadata": {},
   "outputs": [],
   "source": [
    "type(boa)"
   ]
  },
  {
   "cell_type": "code",
   "execution_count": null,
   "id": "979e2fcf",
   "metadata": {},
   "outputs": [],
   "source": [
    "py, px = boa.index(RG28_latlong[0], RG28_latlong[1]) # px coordinaes\n",
    "\n",
    "print(px, py)"
   ]
  },
  {
   "cell_type": "code",
   "execution_count": null,
   "id": "d9c07078",
   "metadata": {},
   "outputs": [],
   "source": [
    "print(boa.indexes)\n",
    "print(boa.dtypes)"
   ]
  },
  {
   "cell_type": "code",
   "execution_count": null,
   "id": "530d9a35",
   "metadata": {},
   "outputs": [],
   "source": [
    "boa.profile"
   ]
  },
  {
   "cell_type": "code",
   "execution_count": null,
   "id": "ac621fef",
   "metadata": {},
   "outputs": [],
   "source": [
    "boa.lnglat() #???"
   ]
  },
  {
   "cell_type": "code",
   "execution_count": null,
   "id": "6292845c",
   "metadata": {},
   "outputs": [],
   "source": [
    "boa.xy"
   ]
  },
  {
   "cell_type": "code",
   "execution_count": null,
   "id": "9c910ad6",
   "metadata": {},
   "outputs": [],
   "source": [
    "fname = \"./sen2r/out/BOA/S2A2A_20181213_141_Walnut-Gulch_BOA_10.tif\"\n",
    "nir"
   ]
  },
  {
   "cell_type": "code",
   "execution_count": null,
   "id": "62c5b7c4",
   "metadata": {},
   "outputs": [],
   "source": [
    "ndvi"
   ]
  },
  {
   "cell_type": "code",
   "execution_count": null,
   "id": "639cc6b8",
   "metadata": {},
   "outputs": [],
   "source": [
    "# https://gis.stackexchange.com/questions/394455/how-to-find-coordinates-of-pixels-of-a-geotiff-image-with-python\n",
    "fname = \"./sen2r/out/BOA/S2A2A_20181213_141_Walnut-Gulch_BOA_10.tif\"\n",
    "from shapely.geometry import Point\n",
    "\n",
    "dataset = boa\n",
    "val = ndvi\n",
    "no_data = dataset.nodata\n",
    "geometry = [Point(dataset.xy(x,y)[0],dataset.xy(x,y)[1]) for x,y in np.ndindex(val.shape) if val[x,y] != no_data]\n",
    "v = [val[x,y] for x,y in np.ndindex(val.shape) if val[x,y] != no_data]\n",
    "df = gpd.GeoDataFrame({'geometry':geometry,'data':v})\n",
    "df.crs = dataset.crs\n",
    "geometry"
   ]
  },
  {
   "cell_type": "code",
   "execution_count": null,
   "id": "3123e468",
   "metadata": {},
   "outputs": [],
   "source": [
    "print(geometry[0].xy[0])"
   ]
  },
  {
   "cell_type": "code",
   "execution_count": null,
   "id": "fc7d4cb3",
   "metadata": {},
   "outputs": [],
   "source": [
    "boa.read(8, masked = True)"
   ]
  },
  {
   "cell_type": "markdown",
   "id": "5d403fb6",
   "metadata": {},
   "source": [
    "----------"
   ]
  }
 ],
 "metadata": {
  "kernelspec": {
   "display_name": "spatial",
   "language": "python",
   "name": "spatial"
  },
  "language_info": {
   "codemirror_mode": {
    "name": "ipython",
    "version": 3
   },
   "file_extension": ".py",
   "mimetype": "text/x-python",
   "name": "python",
   "nbconvert_exporter": "python",
   "pygments_lexer": "ipython3",
   "version": "3.8.12"
  }
 },
 "nbformat": 4,
 "nbformat_minor": 5
}
